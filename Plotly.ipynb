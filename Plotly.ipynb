{
 "cells": [
  {
   "cell_type": "code",
   "execution_count": null,
   "id": "1f9958f9",
   "metadata": {},
   "outputs": [],
   "source": [
    "pip install plotly\n"
   ]
  },
  {
   "cell_type": "code",
   "execution_count": 40,
   "id": "e8ecabc8",
   "metadata": {},
   "outputs": [
    {
     "data": {
      "application/vnd.plotly.v1+json": {
       "config": {
        "plotlyServerURL": "https://plot.ly"
       },
       "data": [
        {
         "customdata": [
          [
           "Unemplyed"
          ],
          [
           "Student"
          ],
          [
           "Employed"
          ],
          [
           "Employed"
          ],
          [
           "Student"
          ],
          [
           "Student"
          ],
          [
           "Unemplyed"
          ],
          [
           "Student"
          ],
          [
           "Student"
          ],
          [
           "Unemplyed"
          ],
          [
           "Student"
          ],
          [
           "Employed"
          ],
          [
           "Student"
          ],
          [
           "Employed"
          ],
          [
           "Employed"
          ],
          [
           "Employed"
          ],
          [
           "Unemplyed"
          ],
          [
           "Employed"
          ],
          [
           "Employed"
          ],
          [
           "Student"
          ],
          [
           "Student"
          ],
          [
           "Student"
          ],
          [
           "Student"
          ],
          [
           "Employed"
          ],
          [
           "Employed"
          ],
          [
           "Employed"
          ],
          [
           "Employed"
          ],
          [
           "Unemplyed"
          ],
          [
           "Student"
          ],
          [
           "Student"
          ],
          [
           "Student"
          ],
          [
           "Employed"
          ],
          [
           "Unemplyed"
          ],
          [
           "Student"
          ],
          [
           "Employed"
          ],
          [
           "Employed"
          ],
          [
           "Employed"
          ],
          [
           "Employed"
          ],
          [
           "Student"
          ],
          [
           "Employed"
          ],
          [
           "Employed"
          ],
          [
           "Unemplyed"
          ],
          [
           "Employed"
          ],
          [
           "Student"
          ],
          [
           "Employed"
          ],
          [
           "Employed"
          ],
          [
           "Employed"
          ],
          [
           "Student"
          ],
          [
           "Employed"
          ],
          [
           "Employed"
          ],
          [
           "Employed"
          ],
          [
           "Student"
          ],
          [
           "Employed"
          ],
          [
           "Employed"
          ],
          [
           "Employed"
          ],
          [
           "Unemplyed"
          ],
          [
           "Employed"
          ],
          [
           "Student"
          ],
          [
           "Employed"
          ],
          [
           "Student"
          ],
          [
           "Employed"
          ],
          [
           "Student"
          ],
          [
           "Employed"
          ],
          [
           "Employed"
          ],
          [
           "Employed"
          ],
          [
           "Student"
          ],
          [
           "Student"
          ],
          [
           "Student"
          ],
          [
           "Student"
          ],
          [
           "Employed"
          ],
          [
           "Student"
          ],
          [
           "Employed"
          ],
          [
           "Student"
          ],
          [
           "Employed"
          ],
          [
           "Employed"
          ],
          [
           "Employed"
          ],
          [
           "Employed"
          ],
          [
           "Student"
          ],
          [
           "Student"
          ],
          [
           "Employed"
          ],
          [
           "Student"
          ],
          [
           "Student"
          ],
          [
           "Employed"
          ],
          [
           "Employed"
          ],
          [
           "Student"
          ],
          [
           "Unemplyed"
          ],
          [
           "Unemplyed"
          ],
          [
           "Student"
          ],
          [
           "Student"
          ],
          [
           "Employed"
          ],
          [
           "Employed"
          ],
          [
           "Student"
          ],
          [
           "Unemplyed"
          ],
          [
           "Student"
          ],
          [
           "Student"
          ],
          [
           "Student"
          ],
          [
           "Student"
          ],
          [
           "Employed"
          ],
          [
           "Unemplyed"
          ],
          [
           "Student"
          ],
          [
           "Employed"
          ],
          [
           "Employed"
          ],
          [
           "Unemplyed"
          ],
          [
           "Unemplyed"
          ],
          [
           "Employed"
          ],
          [
           "Employed"
          ],
          [
           "Student"
          ],
          [
           "Unemplyed"
          ],
          [
           "Student"
          ],
          [
           "Employed"
          ],
          [
           "Student"
          ],
          [
           "Employed"
          ],
          [
           "Unemplyed"
          ],
          [
           "Employed"
          ],
          [
           "Student"
          ],
          [
           "Unemplyed"
          ],
          [
           "Student"
          ],
          [
           "Student"
          ],
          [
           "Student"
          ],
          [
           "Unemplyed"
          ],
          [
           "Student"
          ],
          [
           "Employed"
          ],
          [
           "Unemplyed"
          ],
          [
           "Employed"
          ],
          [
           "Unemplyed"
          ],
          [
           "Employed"
          ],
          [
           "Unemplyed"
          ],
          [
           "Employed"
          ],
          [
           "Employed"
          ],
          [
           "Student"
          ],
          [
           "Student"
          ],
          [
           "Employed"
          ],
          [
           "Unemplyed"
          ],
          [
           "Student"
          ],
          [
           "Student"
          ],
          [
           "Student"
          ],
          [
           "Student"
          ],
          [
           "Student"
          ],
          [
           "Employed"
          ],
          [
           "Student"
          ],
          [
           "Student"
          ],
          [
           "Employed"
          ],
          [
           "Employed"
          ],
          [
           "Student"
          ],
          [
           "Student"
          ],
          [
           "Employed"
          ],
          [
           "Student"
          ],
          [
           "Student"
          ],
          [
           "Student"
          ],
          [
           "Student"
          ],
          [
           "Student"
          ],
          [
           "Unemplyed"
          ],
          [
           "Student"
          ],
          [
           "Employed"
          ],
          [
           "Student"
          ],
          [
           "Student"
          ],
          [
           "Student"
          ],
          [
           "Student"
          ],
          [
           "Student"
          ],
          [
           "Student"
          ],
          [
           "Student"
          ],
          [
           "Student"
          ],
          [
           "Unemplyed"
          ],
          [
           "Employed"
          ],
          [
           "Student"
          ],
          [
           "Student"
          ],
          [
           "Employed"
          ],
          [
           "Unemplyed"
          ],
          [
           "Employed"
          ],
          [
           "Student"
          ],
          [
           "Unemplyed"
          ],
          [
           "Student"
          ],
          [
           "Employed"
          ],
          [
           "Unemplyed"
          ],
          [
           "Employed"
          ],
          [
           "Student"
          ],
          [
           "Student"
          ],
          [
           "Student"
          ],
          [
           "Student"
          ],
          [
           "Student"
          ],
          [
           "Student"
          ],
          [
           "Unemplyed"
          ],
          [
           "Employed"
          ],
          [
           "Student"
          ],
          [
           "Employed"
          ],
          [
           "Student"
          ],
          [
           "Employed"
          ],
          [
           "Student"
          ],
          [
           "Employed"
          ],
          [
           "Student"
          ],
          [
           "Student"
          ],
          [
           "Student"
          ],
          [
           "Employed"
          ],
          [
           "Employed"
          ],
          [
           "Student"
          ],
          [
           "Employed"
          ],
          [
           "Student"
          ],
          [
           "Student"
          ],
          [
           "Student"
          ],
          [
           "Employed"
          ],
          [
           "Employed"
          ],
          [
           "Unemplyed"
          ],
          [
           "Employed"
          ],
          [
           "Student"
          ],
          [
           "Unemplyed"
          ],
          [
           "Unemplyed"
          ],
          [
           "Unemplyed"
          ],
          [
           "Student"
          ],
          [
           "Student"
          ],
          [
           "Student"
          ],
          [
           "Student"
          ],
          [
           "Employed"
          ],
          [
           "Employed"
          ],
          [
           "Unemplyed"
          ],
          [
           "Employed"
          ],
          [
           "Student"
          ],
          [
           "Employed"
          ],
          [
           "Employed"
          ],
          [
           "Unemplyed"
          ],
          [
           "Student"
          ],
          [
           "Employed"
          ],
          [
           "Student"
          ],
          [
           "Unemplyed"
          ],
          [
           "Student"
          ],
          [
           "Student"
          ],
          [
           "Student"
          ],
          [
           "Employed"
          ],
          [
           "Student"
          ],
          [
           "Employed"
          ],
          [
           "Student"
          ],
          [
           "Unemplyed"
          ],
          [
           "Student"
          ],
          [
           "Employed"
          ],
          [
           "Employed"
          ],
          [
           "Student"
          ],
          [
           "Student"
          ],
          [
           "Employed"
          ],
          [
           "Employed"
          ],
          [
           "Employed"
          ],
          [
           "Employed"
          ],
          [
           "Employed"
          ],
          [
           "Student"
          ],
          [
           "Employed"
          ],
          [
           "Student"
          ],
          [
           "Student"
          ],
          [
           "Student"
          ],
          [
           "Student"
          ],
          [
           "Employed"
          ],
          [
           "Student"
          ],
          [
           "Employed"
          ],
          [
           "Student"
          ],
          [
           "Unemplyed"
          ],
          [
           "Employed"
          ],
          [
           "Student"
          ],
          [
           "Unemplyed"
          ],
          [
           "Employed"
          ],
          [
           "Employed"
          ],
          [
           "Student"
          ],
          [
           "Employed"
          ],
          [
           "Employed"
          ],
          [
           "Student"
          ],
          [
           "Student"
          ],
          [
           "Student"
          ],
          [
           "Student"
          ],
          [
           "Employed"
          ],
          [
           "Student"
          ],
          [
           "Student"
          ],
          [
           "Employed"
          ],
          [
           "Employed"
          ],
          [
           "Employed"
          ],
          [
           "Employed"
          ],
          [
           "Student"
          ],
          [
           "Student"
          ],
          [
           "Employed"
          ],
          [
           "Student"
          ],
          [
           "Student"
          ],
          [
           "Unemplyed"
          ],
          [
           "Employed"
          ],
          [
           "Student"
          ],
          [
           "Unemplyed"
          ],
          [
           "Employed"
          ],
          [
           "Employed"
          ],
          [
           "Student"
          ],
          [
           "Employed"
          ],
          [
           "Student"
          ],
          [
           "Unemplyed"
          ],
          [
           "Employed"
          ],
          [
           "Unemplyed"
          ],
          [
           "Student"
          ],
          [
           "Unemplyed"
          ],
          [
           "Student"
          ],
          [
           "Unemplyed"
          ],
          [
           "Student"
          ],
          [
           "Employed"
          ],
          [
           "Employed"
          ],
          [
           "Employed"
          ],
          [
           "Employed"
          ],
          [
           "Employed"
          ]
         ],
         "hovertemplate": "Gender=Male<br>Location=%{x}<br>Mobile_sim=%{y}<br>What_are_you?=%{customdata[0]}<extra></extra>",
         "legendgroup": "Male",
         "marker": {
          "color": "#636efa",
          "symbol": "circle"
         },
         "mode": "markers",
         "name": "Male",
         "orientation": "v",
         "showlegend": true,
         "type": "scatter",
         "x": [
          "Pakistan",
          "Pakistan",
          "Pakistan",
          "Pakistan",
          "Pakistan",
          "West",
          "Pakistan",
          "West",
          "East",
          "Pakistan",
          "Pakistan",
          "Pakistan",
          "East",
          "Pakistan",
          "Pakistan",
          "East",
          "Pakistan",
          "Pakistan",
          "Pakistan",
          "Pakistan",
          "East",
          "Pakistan",
          "Pakistan",
          "Pakistan",
          "Pakistan",
          "East",
          "East",
          "Pakistan",
          "West",
          "Pakistan",
          "Pakistan",
          "Pakistan",
          "Pakistan",
          "West",
          "Pakistan",
          "Pakistan",
          "Pakistan",
          "Pakistan",
          "Pakistan",
          "West",
          "West",
          "Pakistan",
          "Pakistan",
          "Pakistan",
          "East",
          "Pakistan",
          "Pakistan",
          "Pakistan",
          "Pakistan",
          "Pakistan",
          "Pakistan",
          "Pakistan",
          "Pakistan",
          "Pakistan",
          "Pakistan",
          "Pakistan",
          "Pakistan",
          "Pakistan",
          "Pakistan",
          "Pakistan",
          "Pakistan",
          "Pakistan",
          "Pakistan",
          "Pakistan",
          "Pakistan",
          "Pakistan",
          "Pakistan",
          "Pakistan",
          "Pakistan",
          "Pakistan",
          "Pakistan",
          "Pakistan",
          "Pakistan",
          "Pakistan",
          "Pakistan",
          "Pakistan",
          "Pakistan",
          "Pakistan",
          "West",
          "Pakistan",
          "Pakistan",
          "Pakistan",
          "Pakistan",
          "Pakistan",
          "West",
          "Pakistan",
          "Pakistan",
          "Pakistan",
          "Pakistan",
          "Pakistan",
          "Pakistan",
          "Pakistan",
          "Pakistan",
          "Pakistan",
          "East",
          "Pakistan",
          "Pakistan",
          "Pakistan",
          "Pakistan",
          "Pakistan",
          "Pakistan",
          "Pakistan",
          "Pakistan",
          "Pakistan",
          "West",
          "Pakistan",
          "Pakistan",
          "Pakistan",
          "Pakistan",
          "Pakistan",
          "Pakistan",
          "Pakistan",
          "Pakistan",
          "Pakistan",
          "West",
          "Pakistan",
          "West",
          "Pakistan",
          "Pakistan",
          "Pakistan",
          "Pakistan",
          "Pakistan",
          "Pakistan",
          "Pakistan",
          "Pakistan",
          "West",
          "Pakistan",
          "Pakistan",
          "Pakistan",
          "Pakistan",
          "Pakistan",
          "Pakistan",
          "Pakistan",
          "Pakistan",
          "Pakistan",
          "West",
          "Pakistan",
          "India",
          "Pakistan",
          "Pakistan",
          "West",
          "Pakistan",
          "Pakistan",
          "Pakistan",
          "Pakistan",
          "Pakistan",
          "Pakistan",
          "Pakistan",
          "Pakistan",
          "East",
          "Pakistan",
          "Pakistan",
          "West",
          "Pakistan",
          "Pakistan",
          "Pakistan",
          "West",
          "West",
          "Pakistan",
          "Pakistan",
          "Pakistan",
          "Pakistan",
          "Pakistan",
          "Pakistan",
          "Pakistan",
          "Pakistan",
          "Pakistan",
          "Pakistan",
          "Pakistan",
          "Pakistan",
          "West",
          "Pakistan",
          "West",
          "Pakistan",
          "Pakistan",
          "Pakistan",
          "Pakistan",
          "Pakistan",
          "Pakistan",
          "Pakistan",
          "Pakistan",
          "Pakistan",
          "Pakistan",
          "Pakistan",
          "Pakistan",
          "Pakistan",
          "Pakistan",
          "Pakistan",
          "Pakistan",
          "Pakistan",
          "Pakistan",
          "Pakistan",
          "Pakistan",
          "Pakistan",
          "Pakistan",
          "Pakistan",
          "Pakistan",
          "Pakistan",
          "Pakistan",
          "West",
          "Pakistan",
          "Pakistan",
          "Pakistan",
          "Pakistan",
          "Pakistan",
          "West",
          "Pakistan",
          "Pakistan",
          "Pakistan",
          "Pakistan",
          "Pakistan",
          "Pakistan",
          "Pakistan",
          "Pakistan",
          "Pakistan",
          "Pakistan",
          "Pakistan",
          "Pakistan",
          "Pakistan",
          "Pakistan",
          "Pakistan",
          "Pakistan",
          "Pakistan",
          "Pakistan",
          "Pakistan",
          "Pakistan",
          "Pakistan",
          "East",
          "Pakistan",
          "Pakistan",
          "Pakistan",
          "West",
          "Pakistan",
          "Pakistan",
          "Pakistan",
          "Pakistan",
          "Pakistan",
          "Pakistan",
          "Pakistan",
          "Pakistan",
          "Pakistan",
          "India",
          "Pakistan",
          "Pakistan",
          "Pakistan",
          "Pakistan",
          "Pakistan",
          "Pakistan",
          "Pakistan",
          "Pakistan",
          "Pakistan",
          "Pakistan",
          "West",
          "Pakistan",
          "Pakistan",
          "Pakistan",
          "West",
          "West",
          "Pakistan",
          "Pakistan",
          "Pakistan",
          "East",
          "Pakistan",
          "Pakistan",
          "Pakistan",
          "Pakistan",
          "Pakistan",
          "Pakistan",
          "Pakistan",
          "Pakistan",
          "Pakistan",
          "Pakistan",
          "Pakistan",
          "Pakistan",
          "Pakistan",
          "Pakistan",
          "Pakistan",
          "Pakistan",
          "West",
          "Pakistan",
          "Pakistan",
          "Pakistan",
          "Pakistan",
          "Pakistan",
          "Pakistan",
          "Pakistan",
          "Pakistan",
          "Pakistan",
          "Pakistan",
          "Pakistan",
          "West",
          "Pakistan",
          "Pakistan",
          "Pakistan",
          "Pakistan",
          "Pakistan",
          "Pakistan",
          "Pakistan"
         ],
         "xaxis": "x",
         "y": [
          "U-fone",
          "U-fone",
          "Zong",
          "Mobilink",
          "Mobilink",
          "International",
          "Zong",
          "Mobilink",
          "International",
          "Telenor",
          "Mobilink",
          "U-fone",
          "International",
          "Zong",
          "Mobilink",
          "International",
          "Zong",
          "Mobilink",
          "Zong",
          "Zong",
          "International",
          "Zong",
          "Zong",
          "U-fone",
          "Mobilink",
          "International",
          "International",
          "Telenor",
          "International",
          "Telenor",
          "Zong",
          "Telenor",
          "U-fone",
          "International",
          "Mobilink",
          "U-fone",
          "Mobilink",
          "Mobilink",
          "Zong",
          "International",
          "International",
          "Zong",
          "Mobilink",
          "Zong",
          "International",
          "Mobilink",
          "U-fone",
          "Mobilink",
          "Zong",
          "U-fone",
          "U-fone",
          "Mobilink",
          "U-fone",
          "Mobilink",
          "Mobilink",
          "U-fone",
          "Mobilink",
          "Mobilink",
          "Telenor",
          "Mobilink",
          "U-fone",
          "U-fone",
          "Zong",
          "U-fone",
          "Telenor",
          "Mobilink",
          "Telenor",
          "Zong",
          "Mobilink",
          "U-fone",
          "Telenor",
          "Mobilink",
          "Mobilink",
          "Mobilink",
          "U-fone",
          "U-fone",
          "Mobilink",
          "Telenor",
          "International",
          "Mobilink",
          "U-fone",
          "U-fone",
          "Mobilink",
          "Mobilink",
          "International",
          "Mobilink",
          "Telenor",
          "Zong",
          "International",
          "Mobilink",
          "Zong",
          "Telenor",
          "Zong",
          "U-fone",
          "International",
          "Mobilink",
          "U-fone",
          "U-fone",
          "Mobilink",
          "Mobilink",
          "Zong",
          "Mobilink",
          "Mobilink",
          "Zong",
          "International",
          "Mobilink",
          "Mobilink",
          "Mobilink",
          "Mobilink",
          "Telenor",
          "Zong",
          "U-fone",
          "Mobilink",
          "Zong",
          "Zong",
          "Mobilink",
          "International",
          "Telenor",
          "Zong",
          "Telenor",
          "Zong",
          "Mobilink",
          "Mobilink",
          "Zong",
          "Mobilink",
          "International",
          "U-fone",
          "Mobilink",
          "Mobilink",
          "U-fone",
          "Mobilink",
          "Zong",
          "Mobilink",
          "Telenor",
          "Zong",
          "International",
          "Zong",
          "Mobilink",
          "Telenor",
          "Mobilink",
          "International",
          "Zong",
          "U-fone",
          "Zong",
          "Mobilink",
          "Zong",
          "U-fone",
          "Zong",
          "Telenor",
          "International",
          "Mobilink",
          "Zong",
          "International",
          "Mobilink",
          "Zong",
          "Mobilink",
          "International",
          "International",
          "Mobilink",
          "Telenor",
          "U-fone",
          "Mobilink",
          "Telenor",
          "Telenor",
          "Telenor",
          "Mobilink",
          "U-fone",
          "Telenor",
          "U-fone",
          "Mobilink",
          "International",
          "Telenor",
          "International",
          "U-fone",
          "Mobilink",
          "Mobilink",
          "Zong",
          "Telenor",
          "Telenor",
          "Mobilink",
          "Telenor",
          "Mobilink",
          "Telenor",
          "Telenor",
          "Mobilink",
          "Telenor",
          "Mobilink",
          "Mobilink",
          "U-fone",
          "U-fone",
          "Mobilink",
          "Mobilink",
          "Zong",
          "Telenor",
          "Mobilink",
          "U-fone",
          "Mobilink",
          "Zong",
          "Mobilink",
          "International",
          "Zong",
          "Zong",
          "Telenor",
          "U-fone",
          "U-fone",
          "International",
          "Mobilink",
          "Zong",
          "Mobilink",
          "Zong",
          "U-fone",
          "U-fone",
          "U-fone",
          "Mobilink",
          "Mobilink",
          "U-fone",
          "Telenor",
          "Mobilink",
          "Zong",
          "Telenor",
          "Mobilink",
          "Mobilink",
          "Telenor",
          "Zong",
          "U-fone",
          "Telenor",
          "Mobilink",
          "International",
          "Telenor",
          "Mobilink",
          "Zong",
          "International",
          "U-fone",
          "Mobilink",
          "Zong",
          "U-fone",
          "Telenor",
          "Zong",
          "Telenor",
          "Mobilink",
          "U-fone",
          "International",
          "Telenor",
          "U-fone",
          "U-fone",
          "U-fone",
          "Zong",
          "Mobilink",
          "Zong",
          "Telenor",
          "Mobilink",
          "Mobilink",
          "International",
          "Zong",
          "Telenor",
          "Zong",
          "International",
          "International",
          "Zong",
          "Mobilink",
          "Mobilink",
          "International",
          "Telenor",
          "Mobilink",
          "U-fone",
          "Zong",
          "Mobilink",
          "U-fone",
          "U-fone",
          "Zong",
          "Mobilink",
          "Mobilink",
          "Telenor",
          "U-fone",
          "Zong",
          "Telenor",
          "Mobilink",
          "Mobilink",
          "International",
          "Telenor",
          "U-fone",
          "Mobilink",
          "Mobilink",
          "Telenor",
          "Mobilink",
          "U-fone",
          "U-fone",
          "Mobilink",
          "Zong",
          "Zong",
          "International",
          "Zong",
          "Telenor",
          "Mobilink",
          "Telenor",
          "Zong",
          "Mobilink",
          "Mobilink"
         ],
         "yaxis": "y"
        },
        {
         "customdata": [
          [
           "Employed"
          ],
          [
           "Student"
          ],
          [
           "Student"
          ],
          [
           "Student"
          ],
          [
           "Student"
          ],
          [
           "Unemplyed"
          ],
          [
           "Employed"
          ],
          [
           "Unemplyed"
          ],
          [
           "Student"
          ],
          [
           "Employed"
          ],
          [
           "Employed"
          ],
          [
           "Unemplyed"
          ],
          [
           "Unemplyed"
          ],
          [
           "Student"
          ],
          [
           "Unemplyed"
          ],
          [
           "Student"
          ],
          [
           "Student"
          ],
          [
           "Employed"
          ],
          [
           "Employed"
          ],
          [
           "Unemplyed"
          ],
          [
           "Student"
          ],
          [
           "Unemplyed"
          ],
          [
           "Student"
          ],
          [
           "Student"
          ],
          [
           "Student"
          ],
          [
           "Employed"
          ],
          [
           "Unemplyed"
          ],
          [
           "Unemplyed"
          ],
          [
           "Unemplyed"
          ],
          [
           "Student"
          ],
          [
           "Student"
          ],
          [
           "Student"
          ],
          [
           "Unemplyed"
          ],
          [
           "Student"
          ],
          [
           "Student"
          ],
          [
           "Unemplyed"
          ],
          [
           "Student"
          ],
          [
           "Unemplyed"
          ],
          [
           "Unemplyed"
          ],
          [
           "Student"
          ],
          [
           "Student"
          ],
          [
           "Employed"
          ],
          [
           "Unemplyed"
          ],
          [
           "Student"
          ],
          [
           "Unemplyed"
          ],
          [
           "Employed"
          ],
          [
           "Student"
          ],
          [
           "Unemplyed"
          ],
          [
           "Employed"
          ],
          [
           "Employed"
          ],
          [
           "Student"
          ],
          [
           "Student"
          ],
          [
           "Employed"
          ],
          [
           "Unemplyed"
          ],
          [
           "Employed"
          ],
          [
           "Student"
          ],
          [
           "Student"
          ],
          [
           "Student"
          ],
          [
           "Student"
          ],
          [
           "Student"
          ],
          [
           "Student"
          ],
          [
           "Unemplyed"
          ],
          [
           "Employed"
          ],
          [
           "Unemplyed"
          ],
          [
           "Unemplyed"
          ],
          [
           "Unemplyed"
          ],
          [
           "Unemplyed"
          ],
          [
           "Student"
          ],
          [
           "Unemplyed"
          ],
          [
           "Student"
          ],
          [
           "Unemplyed"
          ],
          [
           "Student"
          ],
          [
           "Unemplyed"
          ],
          [
           "Unemplyed"
          ],
          [
           "Unemplyed"
          ],
          [
           "Unemplyed"
          ],
          [
           "Unemplyed"
          ]
         ],
         "hovertemplate": "Gender=Female<br>Location=%{x}<br>Mobile_sim=%{y}<br>What_are_you?=%{customdata[0]}<extra></extra>",
         "legendgroup": "Female",
         "marker": {
          "color": "#EF553B",
          "symbol": "circle"
         },
         "mode": "markers",
         "name": "Female",
         "orientation": "v",
         "showlegend": true,
         "type": "scatter",
         "x": [
          "Pakistan",
          "Pakistan",
          "West",
          "West",
          "Pakistan",
          "Pakistan",
          "Pakistan",
          "Pakistan",
          "West",
          "Pakistan",
          "Pakistan",
          "Pakistan",
          "Pakistan",
          "Pakistan",
          "Pakistan",
          "Pakistan",
          "Pakistan",
          "Pakistan",
          "Pakistan",
          "Pakistan",
          "Pakistan",
          "Pakistan",
          "East",
          "Pakistan",
          "Pakistan",
          "Pakistan",
          "West",
          "Pakistan",
          "Pakistan",
          "Pakistan",
          "Pakistan",
          "Pakistan",
          "Pakistan",
          "Pakistan",
          "Pakistan",
          "Pakistan",
          "Pakistan",
          "East",
          "Pakistan",
          "Pakistan",
          "Pakistan",
          "Pakistan",
          "Pakistan",
          "West",
          "Pakistan",
          "Pakistan",
          "Pakistan",
          "Pakistan",
          "Pakistan",
          "Pakistan",
          "Pakistan",
          "West",
          "West",
          "Pakistan",
          "Pakistan",
          "Pakistan",
          "Pakistan",
          "Pakistan",
          "Pakistan",
          "Pakistan",
          "West",
          "Pakistan",
          "Pakistan",
          "Pakistan",
          "Pakistan",
          "Pakistan",
          "Pakistan",
          "Pakistan",
          "West",
          "Pakistan",
          "Pakistan",
          "Pakistan",
          "Pakistan",
          "Pakistan",
          "East",
          "Pakistan",
          "Pakistan"
         ],
         "xaxis": "x",
         "y": [
          "U-fone",
          "Mobilink",
          "International",
          "International",
          "Mobilink",
          "U-fone",
          "Mobilink",
          "Mobilink",
          "International",
          "U-fone",
          "Telenor",
          "U-fone",
          "U-fone",
          "U-fone",
          "U-fone",
          "Mobilink",
          "Mobilink",
          "Mobilink",
          "Mobilink",
          "Telenor",
          "Telenor",
          "Telenor",
          "International",
          "Mobilink",
          "Telenor",
          "U-fone",
          "Zong",
          "U-fone",
          "Telenor",
          "Zong",
          "Zong",
          "Telenor",
          "Zong",
          "Telenor",
          "Mobilink",
          "U-fone",
          "Zong",
          "International",
          "Zong",
          "Zong",
          "Zong",
          "Zong",
          "Zong",
          "International",
          "U-fone",
          "Mobilink",
          "Mobilink",
          "U-fone",
          "U-fone",
          "Zong",
          "Zong",
          "International",
          "International",
          "U-fone",
          "U-fone",
          "Mobilink",
          "Telenor",
          "Telenor",
          "Zong",
          "Mobilink",
          "International",
          "Zong",
          "Mobilink",
          "Zong",
          "Mobilink",
          "U-fone",
          "U-fone",
          "U-fone",
          "International",
          "Zong",
          "U-fone",
          "Zong",
          "Zong",
          "Mobilink",
          "International",
          "U-fone",
          "Telenor"
         ],
         "yaxis": "y"
        }
       ],
       "layout": {
        "legend": {
         "title": {
          "text": "Gender"
         },
         "tracegroupgap": 0
        },
        "margin": {
         "t": 60
        },
        "template": {
         "data": {
          "bar": [
           {
            "error_x": {
             "color": "#2a3f5f"
            },
            "error_y": {
             "color": "#2a3f5f"
            },
            "marker": {
             "line": {
              "color": "#E5ECF6",
              "width": 0.5
             },
             "pattern": {
              "fillmode": "overlay",
              "size": 10,
              "solidity": 0.2
             }
            },
            "type": "bar"
           }
          ],
          "barpolar": [
           {
            "marker": {
             "line": {
              "color": "#E5ECF6",
              "width": 0.5
             },
             "pattern": {
              "fillmode": "overlay",
              "size": 10,
              "solidity": 0.2
             }
            },
            "type": "barpolar"
           }
          ],
          "carpet": [
           {
            "aaxis": {
             "endlinecolor": "#2a3f5f",
             "gridcolor": "white",
             "linecolor": "white",
             "minorgridcolor": "white",
             "startlinecolor": "#2a3f5f"
            },
            "baxis": {
             "endlinecolor": "#2a3f5f",
             "gridcolor": "white",
             "linecolor": "white",
             "minorgridcolor": "white",
             "startlinecolor": "#2a3f5f"
            },
            "type": "carpet"
           }
          ],
          "choropleth": [
           {
            "colorbar": {
             "outlinewidth": 0,
             "ticks": ""
            },
            "type": "choropleth"
           }
          ],
          "contour": [
           {
            "colorbar": {
             "outlinewidth": 0,
             "ticks": ""
            },
            "colorscale": [
             [
              0,
              "#0d0887"
             ],
             [
              0.1111111111111111,
              "#46039f"
             ],
             [
              0.2222222222222222,
              "#7201a8"
             ],
             [
              0.3333333333333333,
              "#9c179e"
             ],
             [
              0.4444444444444444,
              "#bd3786"
             ],
             [
              0.5555555555555556,
              "#d8576b"
             ],
             [
              0.6666666666666666,
              "#ed7953"
             ],
             [
              0.7777777777777778,
              "#fb9f3a"
             ],
             [
              0.8888888888888888,
              "#fdca26"
             ],
             [
              1,
              "#f0f921"
             ]
            ],
            "type": "contour"
           }
          ],
          "contourcarpet": [
           {
            "colorbar": {
             "outlinewidth": 0,
             "ticks": ""
            },
            "type": "contourcarpet"
           }
          ],
          "heatmap": [
           {
            "colorbar": {
             "outlinewidth": 0,
             "ticks": ""
            },
            "colorscale": [
             [
              0,
              "#0d0887"
             ],
             [
              0.1111111111111111,
              "#46039f"
             ],
             [
              0.2222222222222222,
              "#7201a8"
             ],
             [
              0.3333333333333333,
              "#9c179e"
             ],
             [
              0.4444444444444444,
              "#bd3786"
             ],
             [
              0.5555555555555556,
              "#d8576b"
             ],
             [
              0.6666666666666666,
              "#ed7953"
             ],
             [
              0.7777777777777778,
              "#fb9f3a"
             ],
             [
              0.8888888888888888,
              "#fdca26"
             ],
             [
              1,
              "#f0f921"
             ]
            ],
            "type": "heatmap"
           }
          ],
          "heatmapgl": [
           {
            "colorbar": {
             "outlinewidth": 0,
             "ticks": ""
            },
            "colorscale": [
             [
              0,
              "#0d0887"
             ],
             [
              0.1111111111111111,
              "#46039f"
             ],
             [
              0.2222222222222222,
              "#7201a8"
             ],
             [
              0.3333333333333333,
              "#9c179e"
             ],
             [
              0.4444444444444444,
              "#bd3786"
             ],
             [
              0.5555555555555556,
              "#d8576b"
             ],
             [
              0.6666666666666666,
              "#ed7953"
             ],
             [
              0.7777777777777778,
              "#fb9f3a"
             ],
             [
              0.8888888888888888,
              "#fdca26"
             ],
             [
              1,
              "#f0f921"
             ]
            ],
            "type": "heatmapgl"
           }
          ],
          "histogram": [
           {
            "marker": {
             "pattern": {
              "fillmode": "overlay",
              "size": 10,
              "solidity": 0.2
             }
            },
            "type": "histogram"
           }
          ],
          "histogram2d": [
           {
            "colorbar": {
             "outlinewidth": 0,
             "ticks": ""
            },
            "colorscale": [
             [
              0,
              "#0d0887"
             ],
             [
              0.1111111111111111,
              "#46039f"
             ],
             [
              0.2222222222222222,
              "#7201a8"
             ],
             [
              0.3333333333333333,
              "#9c179e"
             ],
             [
              0.4444444444444444,
              "#bd3786"
             ],
             [
              0.5555555555555556,
              "#d8576b"
             ],
             [
              0.6666666666666666,
              "#ed7953"
             ],
             [
              0.7777777777777778,
              "#fb9f3a"
             ],
             [
              0.8888888888888888,
              "#fdca26"
             ],
             [
              1,
              "#f0f921"
             ]
            ],
            "type": "histogram2d"
           }
          ],
          "histogram2dcontour": [
           {
            "colorbar": {
             "outlinewidth": 0,
             "ticks": ""
            },
            "colorscale": [
             [
              0,
              "#0d0887"
             ],
             [
              0.1111111111111111,
              "#46039f"
             ],
             [
              0.2222222222222222,
              "#7201a8"
             ],
             [
              0.3333333333333333,
              "#9c179e"
             ],
             [
              0.4444444444444444,
              "#bd3786"
             ],
             [
              0.5555555555555556,
              "#d8576b"
             ],
             [
              0.6666666666666666,
              "#ed7953"
             ],
             [
              0.7777777777777778,
              "#fb9f3a"
             ],
             [
              0.8888888888888888,
              "#fdca26"
             ],
             [
              1,
              "#f0f921"
             ]
            ],
            "type": "histogram2dcontour"
           }
          ],
          "mesh3d": [
           {
            "colorbar": {
             "outlinewidth": 0,
             "ticks": ""
            },
            "type": "mesh3d"
           }
          ],
          "parcoords": [
           {
            "line": {
             "colorbar": {
              "outlinewidth": 0,
              "ticks": ""
             }
            },
            "type": "parcoords"
           }
          ],
          "pie": [
           {
            "automargin": true,
            "type": "pie"
           }
          ],
          "scatter": [
           {
            "fillpattern": {
             "fillmode": "overlay",
             "size": 10,
             "solidity": 0.2
            },
            "type": "scatter"
           }
          ],
          "scatter3d": [
           {
            "line": {
             "colorbar": {
              "outlinewidth": 0,
              "ticks": ""
             }
            },
            "marker": {
             "colorbar": {
              "outlinewidth": 0,
              "ticks": ""
             }
            },
            "type": "scatter3d"
           }
          ],
          "scattercarpet": [
           {
            "marker": {
             "colorbar": {
              "outlinewidth": 0,
              "ticks": ""
             }
            },
            "type": "scattercarpet"
           }
          ],
          "scattergeo": [
           {
            "marker": {
             "colorbar": {
              "outlinewidth": 0,
              "ticks": ""
             }
            },
            "type": "scattergeo"
           }
          ],
          "scattergl": [
           {
            "marker": {
             "colorbar": {
              "outlinewidth": 0,
              "ticks": ""
             }
            },
            "type": "scattergl"
           }
          ],
          "scattermapbox": [
           {
            "marker": {
             "colorbar": {
              "outlinewidth": 0,
              "ticks": ""
             }
            },
            "type": "scattermapbox"
           }
          ],
          "scatterpolar": [
           {
            "marker": {
             "colorbar": {
              "outlinewidth": 0,
              "ticks": ""
             }
            },
            "type": "scatterpolar"
           }
          ],
          "scatterpolargl": [
           {
            "marker": {
             "colorbar": {
              "outlinewidth": 0,
              "ticks": ""
             }
            },
            "type": "scatterpolargl"
           }
          ],
          "scatterternary": [
           {
            "marker": {
             "colorbar": {
              "outlinewidth": 0,
              "ticks": ""
             }
            },
            "type": "scatterternary"
           }
          ],
          "surface": [
           {
            "colorbar": {
             "outlinewidth": 0,
             "ticks": ""
            },
            "colorscale": [
             [
              0,
              "#0d0887"
             ],
             [
              0.1111111111111111,
              "#46039f"
             ],
             [
              0.2222222222222222,
              "#7201a8"
             ],
             [
              0.3333333333333333,
              "#9c179e"
             ],
             [
              0.4444444444444444,
              "#bd3786"
             ],
             [
              0.5555555555555556,
              "#d8576b"
             ],
             [
              0.6666666666666666,
              "#ed7953"
             ],
             [
              0.7777777777777778,
              "#fb9f3a"
             ],
             [
              0.8888888888888888,
              "#fdca26"
             ],
             [
              1,
              "#f0f921"
             ]
            ],
            "type": "surface"
           }
          ],
          "table": [
           {
            "cells": {
             "fill": {
              "color": "#EBF0F8"
             },
             "line": {
              "color": "white"
             }
            },
            "header": {
             "fill": {
              "color": "#C8D4E3"
             },
             "line": {
              "color": "white"
             }
            },
            "type": "table"
           }
          ]
         },
         "layout": {
          "annotationdefaults": {
           "arrowcolor": "#2a3f5f",
           "arrowhead": 0,
           "arrowwidth": 1
          },
          "autotypenumbers": "strict",
          "coloraxis": {
           "colorbar": {
            "outlinewidth": 0,
            "ticks": ""
           }
          },
          "colorscale": {
           "diverging": [
            [
             0,
             "#8e0152"
            ],
            [
             0.1,
             "#c51b7d"
            ],
            [
             0.2,
             "#de77ae"
            ],
            [
             0.3,
             "#f1b6da"
            ],
            [
             0.4,
             "#fde0ef"
            ],
            [
             0.5,
             "#f7f7f7"
            ],
            [
             0.6,
             "#e6f5d0"
            ],
            [
             0.7,
             "#b8e186"
            ],
            [
             0.8,
             "#7fbc41"
            ],
            [
             0.9,
             "#4d9221"
            ],
            [
             1,
             "#276419"
            ]
           ],
           "sequential": [
            [
             0,
             "#0d0887"
            ],
            [
             0.1111111111111111,
             "#46039f"
            ],
            [
             0.2222222222222222,
             "#7201a8"
            ],
            [
             0.3333333333333333,
             "#9c179e"
            ],
            [
             0.4444444444444444,
             "#bd3786"
            ],
            [
             0.5555555555555556,
             "#d8576b"
            ],
            [
             0.6666666666666666,
             "#ed7953"
            ],
            [
             0.7777777777777778,
             "#fb9f3a"
            ],
            [
             0.8888888888888888,
             "#fdca26"
            ],
            [
             1,
             "#f0f921"
            ]
           ],
           "sequentialminus": [
            [
             0,
             "#0d0887"
            ],
            [
             0.1111111111111111,
             "#46039f"
            ],
            [
             0.2222222222222222,
             "#7201a8"
            ],
            [
             0.3333333333333333,
             "#9c179e"
            ],
            [
             0.4444444444444444,
             "#bd3786"
            ],
            [
             0.5555555555555556,
             "#d8576b"
            ],
            [
             0.6666666666666666,
             "#ed7953"
            ],
            [
             0.7777777777777778,
             "#fb9f3a"
            ],
            [
             0.8888888888888888,
             "#fdca26"
            ],
            [
             1,
             "#f0f921"
            ]
           ]
          },
          "colorway": [
           "#636efa",
           "#EF553B",
           "#00cc96",
           "#ab63fa",
           "#FFA15A",
           "#19d3f3",
           "#FF6692",
           "#B6E880",
           "#FF97FF",
           "#FECB52"
          ],
          "font": {
           "color": "#2a3f5f"
          },
          "geo": {
           "bgcolor": "white",
           "lakecolor": "white",
           "landcolor": "#E5ECF6",
           "showlakes": true,
           "showland": true,
           "subunitcolor": "white"
          },
          "hoverlabel": {
           "align": "left"
          },
          "hovermode": "closest",
          "mapbox": {
           "style": "light"
          },
          "paper_bgcolor": "white",
          "plot_bgcolor": "#E5ECF6",
          "polar": {
           "angularaxis": {
            "gridcolor": "white",
            "linecolor": "white",
            "ticks": ""
           },
           "bgcolor": "#E5ECF6",
           "radialaxis": {
            "gridcolor": "white",
            "linecolor": "white",
            "ticks": ""
           }
          },
          "scene": {
           "xaxis": {
            "backgroundcolor": "#E5ECF6",
            "gridcolor": "white",
            "gridwidth": 2,
            "linecolor": "white",
            "showbackground": true,
            "ticks": "",
            "zerolinecolor": "white"
           },
           "yaxis": {
            "backgroundcolor": "#E5ECF6",
            "gridcolor": "white",
            "gridwidth": 2,
            "linecolor": "white",
            "showbackground": true,
            "ticks": "",
            "zerolinecolor": "white"
           },
           "zaxis": {
            "backgroundcolor": "#E5ECF6",
            "gridcolor": "white",
            "gridwidth": 2,
            "linecolor": "white",
            "showbackground": true,
            "ticks": "",
            "zerolinecolor": "white"
           }
          },
          "shapedefaults": {
           "line": {
            "color": "#2a3f5f"
           }
          },
          "ternary": {
           "aaxis": {
            "gridcolor": "white",
            "linecolor": "white",
            "ticks": ""
           },
           "baxis": {
            "gridcolor": "white",
            "linecolor": "white",
            "ticks": ""
           },
           "bgcolor": "#E5ECF6",
           "caxis": {
            "gridcolor": "white",
            "linecolor": "white",
            "ticks": ""
           }
          },
          "title": {
           "x": 0.05
          },
          "xaxis": {
           "automargin": true,
           "gridcolor": "white",
           "linecolor": "white",
           "ticks": "",
           "title": {
            "standoff": 15
           },
           "zerolinecolor": "white",
           "zerolinewidth": 2
          },
          "yaxis": {
           "automargin": true,
           "gridcolor": "white",
           "linecolor": "white",
           "ticks": "",
           "title": {
            "standoff": 15
           },
           "zerolinecolor": "white",
           "zerolinewidth": 2
          }
         }
        },
        "xaxis": {
         "anchor": "y",
         "domain": [
          0,
          1
         ],
         "title": {
          "text": "Location"
         }
        },
        "yaxis": {
         "anchor": "x",
         "domain": [
          0,
          1
         ],
         "title": {
          "text": "Mobile_sim"
         }
        }
       }
      },
      "text/html": [
       "<div>                            <div id=\"75c1b7b2-4d45-4927-bbfe-8fdca658bcfb\" class=\"plotly-graph-div\" style=\"height:525px; width:100%;\"></div>            <script type=\"text/javascript\">                require([\"plotly\"], function(Plotly) {                    window.PLOTLYENV=window.PLOTLYENV || {};                                    if (document.getElementById(\"75c1b7b2-4d45-4927-bbfe-8fdca658bcfb\")) {                    Plotly.newPlot(                        \"75c1b7b2-4d45-4927-bbfe-8fdca658bcfb\",                        [{\"customdata\":[[\"Unemplyed\"],[\"Student\"],[\"Employed\"],[\"Employed\"],[\"Student\"],[\"Student\"],[\"Unemplyed\"],[\"Student\"],[\"Student\"],[\"Unemplyed\"],[\"Student\"],[\"Employed\"],[\"Student\"],[\"Employed\"],[\"Employed\"],[\"Employed\"],[\"Unemplyed\"],[\"Employed\"],[\"Employed\"],[\"Student\"],[\"Student\"],[\"Student\"],[\"Student\"],[\"Employed\"],[\"Employed\"],[\"Employed\"],[\"Employed\"],[\"Unemplyed\"],[\"Student\"],[\"Student\"],[\"Student\"],[\"Employed\"],[\"Unemplyed\"],[\"Student\"],[\"Employed\"],[\"Employed\"],[\"Employed\"],[\"Employed\"],[\"Student\"],[\"Employed\"],[\"Employed\"],[\"Unemplyed\"],[\"Employed\"],[\"Student\"],[\"Employed\"],[\"Employed\"],[\"Employed\"],[\"Student\"],[\"Employed\"],[\"Employed\"],[\"Employed\"],[\"Student\"],[\"Employed\"],[\"Employed\"],[\"Employed\"],[\"Unemplyed\"],[\"Employed\"],[\"Student\"],[\"Employed\"],[\"Student\"],[\"Employed\"],[\"Student\"],[\"Employed\"],[\"Employed\"],[\"Employed\"],[\"Student\"],[\"Student\"],[\"Student\"],[\"Student\"],[\"Employed\"],[\"Student\"],[\"Employed\"],[\"Student\"],[\"Employed\"],[\"Employed\"],[\"Employed\"],[\"Employed\"],[\"Student\"],[\"Student\"],[\"Employed\"],[\"Student\"],[\"Student\"],[\"Employed\"],[\"Employed\"],[\"Student\"],[\"Unemplyed\"],[\"Unemplyed\"],[\"Student\"],[\"Student\"],[\"Employed\"],[\"Employed\"],[\"Student\"],[\"Unemplyed\"],[\"Student\"],[\"Student\"],[\"Student\"],[\"Student\"],[\"Employed\"],[\"Unemplyed\"],[\"Student\"],[\"Employed\"],[\"Employed\"],[\"Unemplyed\"],[\"Unemplyed\"],[\"Employed\"],[\"Employed\"],[\"Student\"],[\"Unemplyed\"],[\"Student\"],[\"Employed\"],[\"Student\"],[\"Employed\"],[\"Unemplyed\"],[\"Employed\"],[\"Student\"],[\"Unemplyed\"],[\"Student\"],[\"Student\"],[\"Student\"],[\"Unemplyed\"],[\"Student\"],[\"Employed\"],[\"Unemplyed\"],[\"Employed\"],[\"Unemplyed\"],[\"Employed\"],[\"Unemplyed\"],[\"Employed\"],[\"Employed\"],[\"Student\"],[\"Student\"],[\"Employed\"],[\"Unemplyed\"],[\"Student\"],[\"Student\"],[\"Student\"],[\"Student\"],[\"Student\"],[\"Employed\"],[\"Student\"],[\"Student\"],[\"Employed\"],[\"Employed\"],[\"Student\"],[\"Student\"],[\"Employed\"],[\"Student\"],[\"Student\"],[\"Student\"],[\"Student\"],[\"Student\"],[\"Unemplyed\"],[\"Student\"],[\"Employed\"],[\"Student\"],[\"Student\"],[\"Student\"],[\"Student\"],[\"Student\"],[\"Student\"],[\"Student\"],[\"Student\"],[\"Unemplyed\"],[\"Employed\"],[\"Student\"],[\"Student\"],[\"Employed\"],[\"Unemplyed\"],[\"Employed\"],[\"Student\"],[\"Unemplyed\"],[\"Student\"],[\"Employed\"],[\"Unemplyed\"],[\"Employed\"],[\"Student\"],[\"Student\"],[\"Student\"],[\"Student\"],[\"Student\"],[\"Student\"],[\"Unemplyed\"],[\"Employed\"],[\"Student\"],[\"Employed\"],[\"Student\"],[\"Employed\"],[\"Student\"],[\"Employed\"],[\"Student\"],[\"Student\"],[\"Student\"],[\"Employed\"],[\"Employed\"],[\"Student\"],[\"Employed\"],[\"Student\"],[\"Student\"],[\"Student\"],[\"Employed\"],[\"Employed\"],[\"Unemplyed\"],[\"Employed\"],[\"Student\"],[\"Unemplyed\"],[\"Unemplyed\"],[\"Unemplyed\"],[\"Student\"],[\"Student\"],[\"Student\"],[\"Student\"],[\"Employed\"],[\"Employed\"],[\"Unemplyed\"],[\"Employed\"],[\"Student\"],[\"Employed\"],[\"Employed\"],[\"Unemplyed\"],[\"Student\"],[\"Employed\"],[\"Student\"],[\"Unemplyed\"],[\"Student\"],[\"Student\"],[\"Student\"],[\"Employed\"],[\"Student\"],[\"Employed\"],[\"Student\"],[\"Unemplyed\"],[\"Student\"],[\"Employed\"],[\"Employed\"],[\"Student\"],[\"Student\"],[\"Employed\"],[\"Employed\"],[\"Employed\"],[\"Employed\"],[\"Employed\"],[\"Student\"],[\"Employed\"],[\"Student\"],[\"Student\"],[\"Student\"],[\"Student\"],[\"Employed\"],[\"Student\"],[\"Employed\"],[\"Student\"],[\"Unemplyed\"],[\"Employed\"],[\"Student\"],[\"Unemplyed\"],[\"Employed\"],[\"Employed\"],[\"Student\"],[\"Employed\"],[\"Employed\"],[\"Student\"],[\"Student\"],[\"Student\"],[\"Student\"],[\"Employed\"],[\"Student\"],[\"Student\"],[\"Employed\"],[\"Employed\"],[\"Employed\"],[\"Employed\"],[\"Student\"],[\"Student\"],[\"Employed\"],[\"Student\"],[\"Student\"],[\"Unemplyed\"],[\"Employed\"],[\"Student\"],[\"Unemplyed\"],[\"Employed\"],[\"Employed\"],[\"Student\"],[\"Employed\"],[\"Student\"],[\"Unemplyed\"],[\"Employed\"],[\"Unemplyed\"],[\"Student\"],[\"Unemplyed\"],[\"Student\"],[\"Unemplyed\"],[\"Student\"],[\"Employed\"],[\"Employed\"],[\"Employed\"],[\"Employed\"],[\"Employed\"]],\"hovertemplate\":\"Gender=Male<br>Location=%{x}<br>Mobile_sim=%{y}<br>What_are_you?=%{customdata[0]}<extra></extra>\",\"legendgroup\":\"Male\",\"marker\":{\"color\":\"#636efa\",\"symbol\":\"circle\"},\"mode\":\"markers\",\"name\":\"Male\",\"orientation\":\"v\",\"showlegend\":true,\"x\":[\"Pakistan\",\"Pakistan\",\"Pakistan\",\"Pakistan\",\"Pakistan\",\"West\",\"Pakistan\",\"West\",\"East\",\"Pakistan\",\"Pakistan\",\"Pakistan\",\"East\",\"Pakistan\",\"Pakistan\",\"East\",\"Pakistan\",\"Pakistan\",\"Pakistan\",\"Pakistan\",\"East\",\"Pakistan\",\"Pakistan\",\"Pakistan\",\"Pakistan\",\"East\",\"East\",\"Pakistan\",\"West\",\"Pakistan\",\"Pakistan\",\"Pakistan\",\"Pakistan\",\"West\",\"Pakistan\",\"Pakistan\",\"Pakistan\",\"Pakistan\",\"Pakistan\",\"West\",\"West\",\"Pakistan\",\"Pakistan\",\"Pakistan\",\"East\",\"Pakistan\",\"Pakistan\",\"Pakistan\",\"Pakistan\",\"Pakistan\",\"Pakistan\",\"Pakistan\",\"Pakistan\",\"Pakistan\",\"Pakistan\",\"Pakistan\",\"Pakistan\",\"Pakistan\",\"Pakistan\",\"Pakistan\",\"Pakistan\",\"Pakistan\",\"Pakistan\",\"Pakistan\",\"Pakistan\",\"Pakistan\",\"Pakistan\",\"Pakistan\",\"Pakistan\",\"Pakistan\",\"Pakistan\",\"Pakistan\",\"Pakistan\",\"Pakistan\",\"Pakistan\",\"Pakistan\",\"Pakistan\",\"Pakistan\",\"West\",\"Pakistan\",\"Pakistan\",\"Pakistan\",\"Pakistan\",\"Pakistan\",\"West\",\"Pakistan\",\"Pakistan\",\"Pakistan\",\"Pakistan\",\"Pakistan\",\"Pakistan\",\"Pakistan\",\"Pakistan\",\"Pakistan\",\"East\",\"Pakistan\",\"Pakistan\",\"Pakistan\",\"Pakistan\",\"Pakistan\",\"Pakistan\",\"Pakistan\",\"Pakistan\",\"Pakistan\",\"West\",\"Pakistan\",\"Pakistan\",\"Pakistan\",\"Pakistan\",\"Pakistan\",\"Pakistan\",\"Pakistan\",\"Pakistan\",\"Pakistan\",\"West\",\"Pakistan\",\"West\",\"Pakistan\",\"Pakistan\",\"Pakistan\",\"Pakistan\",\"Pakistan\",\"Pakistan\",\"Pakistan\",\"Pakistan\",\"West\",\"Pakistan\",\"Pakistan\",\"Pakistan\",\"Pakistan\",\"Pakistan\",\"Pakistan\",\"Pakistan\",\"Pakistan\",\"Pakistan\",\"West\",\"Pakistan\",\"India\",\"Pakistan\",\"Pakistan\",\"West\",\"Pakistan\",\"Pakistan\",\"Pakistan\",\"Pakistan\",\"Pakistan\",\"Pakistan\",\"Pakistan\",\"Pakistan\",\"East\",\"Pakistan\",\"Pakistan\",\"West\",\"Pakistan\",\"Pakistan\",\"Pakistan\",\"West\",\"West\",\"Pakistan\",\"Pakistan\",\"Pakistan\",\"Pakistan\",\"Pakistan\",\"Pakistan\",\"Pakistan\",\"Pakistan\",\"Pakistan\",\"Pakistan\",\"Pakistan\",\"Pakistan\",\"West\",\"Pakistan\",\"West\",\"Pakistan\",\"Pakistan\",\"Pakistan\",\"Pakistan\",\"Pakistan\",\"Pakistan\",\"Pakistan\",\"Pakistan\",\"Pakistan\",\"Pakistan\",\"Pakistan\",\"Pakistan\",\"Pakistan\",\"Pakistan\",\"Pakistan\",\"Pakistan\",\"Pakistan\",\"Pakistan\",\"Pakistan\",\"Pakistan\",\"Pakistan\",\"Pakistan\",\"Pakistan\",\"Pakistan\",\"Pakistan\",\"Pakistan\",\"West\",\"Pakistan\",\"Pakistan\",\"Pakistan\",\"Pakistan\",\"Pakistan\",\"West\",\"Pakistan\",\"Pakistan\",\"Pakistan\",\"Pakistan\",\"Pakistan\",\"Pakistan\",\"Pakistan\",\"Pakistan\",\"Pakistan\",\"Pakistan\",\"Pakistan\",\"Pakistan\",\"Pakistan\",\"Pakistan\",\"Pakistan\",\"Pakistan\",\"Pakistan\",\"Pakistan\",\"Pakistan\",\"Pakistan\",\"Pakistan\",\"East\",\"Pakistan\",\"Pakistan\",\"Pakistan\",\"West\",\"Pakistan\",\"Pakistan\",\"Pakistan\",\"Pakistan\",\"Pakistan\",\"Pakistan\",\"Pakistan\",\"Pakistan\",\"Pakistan\",\"India\",\"Pakistan\",\"Pakistan\",\"Pakistan\",\"Pakistan\",\"Pakistan\",\"Pakistan\",\"Pakistan\",\"Pakistan\",\"Pakistan\",\"Pakistan\",\"West\",\"Pakistan\",\"Pakistan\",\"Pakistan\",\"West\",\"West\",\"Pakistan\",\"Pakistan\",\"Pakistan\",\"East\",\"Pakistan\",\"Pakistan\",\"Pakistan\",\"Pakistan\",\"Pakistan\",\"Pakistan\",\"Pakistan\",\"Pakistan\",\"Pakistan\",\"Pakistan\",\"Pakistan\",\"Pakistan\",\"Pakistan\",\"Pakistan\",\"Pakistan\",\"Pakistan\",\"West\",\"Pakistan\",\"Pakistan\",\"Pakistan\",\"Pakistan\",\"Pakistan\",\"Pakistan\",\"Pakistan\",\"Pakistan\",\"Pakistan\",\"Pakistan\",\"Pakistan\",\"West\",\"Pakistan\",\"Pakistan\",\"Pakistan\",\"Pakistan\",\"Pakistan\",\"Pakistan\",\"Pakistan\"],\"xaxis\":\"x\",\"y\":[\"U-fone\",\"U-fone\",\"Zong\",\"Mobilink\",\"Mobilink\",\"International\",\"Zong\",\"Mobilink\",\"International\",\"Telenor\",\"Mobilink\",\"U-fone\",\"International\",\"Zong\",\"Mobilink\",\"International\",\"Zong\",\"Mobilink\",\"Zong\",\"Zong\",\"International\",\"Zong\",\"Zong\",\"U-fone\",\"Mobilink\",\"International\",\"International\",\"Telenor\",\"International\",\"Telenor\",\"Zong\",\"Telenor\",\"U-fone\",\"International\",\"Mobilink\",\"U-fone\",\"Mobilink\",\"Mobilink\",\"Zong\",\"International\",\"International\",\"Zong\",\"Mobilink\",\"Zong\",\"International\",\"Mobilink\",\"U-fone\",\"Mobilink\",\"Zong\",\"U-fone\",\"U-fone\",\"Mobilink\",\"U-fone\",\"Mobilink\",\"Mobilink\",\"U-fone\",\"Mobilink\",\"Mobilink\",\"Telenor\",\"Mobilink\",\"U-fone\",\"U-fone\",\"Zong\",\"U-fone\",\"Telenor\",\"Mobilink\",\"Telenor\",\"Zong\",\"Mobilink\",\"U-fone\",\"Telenor\",\"Mobilink\",\"Mobilink\",\"Mobilink\",\"U-fone\",\"U-fone\",\"Mobilink\",\"Telenor\",\"International\",\"Mobilink\",\"U-fone\",\"U-fone\",\"Mobilink\",\"Mobilink\",\"International\",\"Mobilink\",\"Telenor\",\"Zong\",\"International\",\"Mobilink\",\"Zong\",\"Telenor\",\"Zong\",\"U-fone\",\"International\",\"Mobilink\",\"U-fone\",\"U-fone\",\"Mobilink\",\"Mobilink\",\"Zong\",\"Mobilink\",\"Mobilink\",\"Zong\",\"International\",\"Mobilink\",\"Mobilink\",\"Mobilink\",\"Mobilink\",\"Telenor\",\"Zong\",\"U-fone\",\"Mobilink\",\"Zong\",\"Zong\",\"Mobilink\",\"International\",\"Telenor\",\"Zong\",\"Telenor\",\"Zong\",\"Mobilink\",\"Mobilink\",\"Zong\",\"Mobilink\",\"International\",\"U-fone\",\"Mobilink\",\"Mobilink\",\"U-fone\",\"Mobilink\",\"Zong\",\"Mobilink\",\"Telenor\",\"Zong\",\"International\",\"Zong\",\"Mobilink\",\"Telenor\",\"Mobilink\",\"International\",\"Zong\",\"U-fone\",\"Zong\",\"Mobilink\",\"Zong\",\"U-fone\",\"Zong\",\"Telenor\",\"International\",\"Mobilink\",\"Zong\",\"International\",\"Mobilink\",\"Zong\",\"Mobilink\",\"International\",\"International\",\"Mobilink\",\"Telenor\",\"U-fone\",\"Mobilink\",\"Telenor\",\"Telenor\",\"Telenor\",\"Mobilink\",\"U-fone\",\"Telenor\",\"U-fone\",\"Mobilink\",\"International\",\"Telenor\",\"International\",\"U-fone\",\"Mobilink\",\"Mobilink\",\"Zong\",\"Telenor\",\"Telenor\",\"Mobilink\",\"Telenor\",\"Mobilink\",\"Telenor\",\"Telenor\",\"Mobilink\",\"Telenor\",\"Mobilink\",\"Mobilink\",\"U-fone\",\"U-fone\",\"Mobilink\",\"Mobilink\",\"Zong\",\"Telenor\",\"Mobilink\",\"U-fone\",\"Mobilink\",\"Zong\",\"Mobilink\",\"International\",\"Zong\",\"Zong\",\"Telenor\",\"U-fone\",\"U-fone\",\"International\",\"Mobilink\",\"Zong\",\"Mobilink\",\"Zong\",\"U-fone\",\"U-fone\",\"U-fone\",\"Mobilink\",\"Mobilink\",\"U-fone\",\"Telenor\",\"Mobilink\",\"Zong\",\"Telenor\",\"Mobilink\",\"Mobilink\",\"Telenor\",\"Zong\",\"U-fone\",\"Telenor\",\"Mobilink\",\"International\",\"Telenor\",\"Mobilink\",\"Zong\",\"International\",\"U-fone\",\"Mobilink\",\"Zong\",\"U-fone\",\"Telenor\",\"Zong\",\"Telenor\",\"Mobilink\",\"U-fone\",\"International\",\"Telenor\",\"U-fone\",\"U-fone\",\"U-fone\",\"Zong\",\"Mobilink\",\"Zong\",\"Telenor\",\"Mobilink\",\"Mobilink\",\"International\",\"Zong\",\"Telenor\",\"Zong\",\"International\",\"International\",\"Zong\",\"Mobilink\",\"Mobilink\",\"International\",\"Telenor\",\"Mobilink\",\"U-fone\",\"Zong\",\"Mobilink\",\"U-fone\",\"U-fone\",\"Zong\",\"Mobilink\",\"Mobilink\",\"Telenor\",\"U-fone\",\"Zong\",\"Telenor\",\"Mobilink\",\"Mobilink\",\"International\",\"Telenor\",\"U-fone\",\"Mobilink\",\"Mobilink\",\"Telenor\",\"Mobilink\",\"U-fone\",\"U-fone\",\"Mobilink\",\"Zong\",\"Zong\",\"International\",\"Zong\",\"Telenor\",\"Mobilink\",\"Telenor\",\"Zong\",\"Mobilink\",\"Mobilink\"],\"yaxis\":\"y\",\"type\":\"scatter\"},{\"customdata\":[[\"Employed\"],[\"Student\"],[\"Student\"],[\"Student\"],[\"Student\"],[\"Unemplyed\"],[\"Employed\"],[\"Unemplyed\"],[\"Student\"],[\"Employed\"],[\"Employed\"],[\"Unemplyed\"],[\"Unemplyed\"],[\"Student\"],[\"Unemplyed\"],[\"Student\"],[\"Student\"],[\"Employed\"],[\"Employed\"],[\"Unemplyed\"],[\"Student\"],[\"Unemplyed\"],[\"Student\"],[\"Student\"],[\"Student\"],[\"Employed\"],[\"Unemplyed\"],[\"Unemplyed\"],[\"Unemplyed\"],[\"Student\"],[\"Student\"],[\"Student\"],[\"Unemplyed\"],[\"Student\"],[\"Student\"],[\"Unemplyed\"],[\"Student\"],[\"Unemplyed\"],[\"Unemplyed\"],[\"Student\"],[\"Student\"],[\"Employed\"],[\"Unemplyed\"],[\"Student\"],[\"Unemplyed\"],[\"Employed\"],[\"Student\"],[\"Unemplyed\"],[\"Employed\"],[\"Employed\"],[\"Student\"],[\"Student\"],[\"Employed\"],[\"Unemplyed\"],[\"Employed\"],[\"Student\"],[\"Student\"],[\"Student\"],[\"Student\"],[\"Student\"],[\"Student\"],[\"Unemplyed\"],[\"Employed\"],[\"Unemplyed\"],[\"Unemplyed\"],[\"Unemplyed\"],[\"Unemplyed\"],[\"Student\"],[\"Unemplyed\"],[\"Student\"],[\"Unemplyed\"],[\"Student\"],[\"Unemplyed\"],[\"Unemplyed\"],[\"Unemplyed\"],[\"Unemplyed\"],[\"Unemplyed\"]],\"hovertemplate\":\"Gender=Female<br>Location=%{x}<br>Mobile_sim=%{y}<br>What_are_you?=%{customdata[0]}<extra></extra>\",\"legendgroup\":\"Female\",\"marker\":{\"color\":\"#EF553B\",\"symbol\":\"circle\"},\"mode\":\"markers\",\"name\":\"Female\",\"orientation\":\"v\",\"showlegend\":true,\"x\":[\"Pakistan\",\"Pakistan\",\"West\",\"West\",\"Pakistan\",\"Pakistan\",\"Pakistan\",\"Pakistan\",\"West\",\"Pakistan\",\"Pakistan\",\"Pakistan\",\"Pakistan\",\"Pakistan\",\"Pakistan\",\"Pakistan\",\"Pakistan\",\"Pakistan\",\"Pakistan\",\"Pakistan\",\"Pakistan\",\"Pakistan\",\"East\",\"Pakistan\",\"Pakistan\",\"Pakistan\",\"West\",\"Pakistan\",\"Pakistan\",\"Pakistan\",\"Pakistan\",\"Pakistan\",\"Pakistan\",\"Pakistan\",\"Pakistan\",\"Pakistan\",\"Pakistan\",\"East\",\"Pakistan\",\"Pakistan\",\"Pakistan\",\"Pakistan\",\"Pakistan\",\"West\",\"Pakistan\",\"Pakistan\",\"Pakistan\",\"Pakistan\",\"Pakistan\",\"Pakistan\",\"Pakistan\",\"West\",\"West\",\"Pakistan\",\"Pakistan\",\"Pakistan\",\"Pakistan\",\"Pakistan\",\"Pakistan\",\"Pakistan\",\"West\",\"Pakistan\",\"Pakistan\",\"Pakistan\",\"Pakistan\",\"Pakistan\",\"Pakistan\",\"Pakistan\",\"West\",\"Pakistan\",\"Pakistan\",\"Pakistan\",\"Pakistan\",\"Pakistan\",\"East\",\"Pakistan\",\"Pakistan\"],\"xaxis\":\"x\",\"y\":[\"U-fone\",\"Mobilink\",\"International\",\"International\",\"Mobilink\",\"U-fone\",\"Mobilink\",\"Mobilink\",\"International\",\"U-fone\",\"Telenor\",\"U-fone\",\"U-fone\",\"U-fone\",\"U-fone\",\"Mobilink\",\"Mobilink\",\"Mobilink\",\"Mobilink\",\"Telenor\",\"Telenor\",\"Telenor\",\"International\",\"Mobilink\",\"Telenor\",\"U-fone\",\"Zong\",\"U-fone\",\"Telenor\",\"Zong\",\"Zong\",\"Telenor\",\"Zong\",\"Telenor\",\"Mobilink\",\"U-fone\",\"Zong\",\"International\",\"Zong\",\"Zong\",\"Zong\",\"Zong\",\"Zong\",\"International\",\"U-fone\",\"Mobilink\",\"Mobilink\",\"U-fone\",\"U-fone\",\"Zong\",\"Zong\",\"International\",\"International\",\"U-fone\",\"U-fone\",\"Mobilink\",\"Telenor\",\"Telenor\",\"Zong\",\"Mobilink\",\"International\",\"Zong\",\"Mobilink\",\"Zong\",\"Mobilink\",\"U-fone\",\"U-fone\",\"U-fone\",\"International\",\"Zong\",\"U-fone\",\"Zong\",\"Zong\",\"Mobilink\",\"International\",\"U-fone\",\"Telenor\"],\"yaxis\":\"y\",\"type\":\"scatter\"}],                        {\"template\":{\"data\":{\"histogram2dcontour\":[{\"type\":\"histogram2dcontour\",\"colorbar\":{\"outlinewidth\":0,\"ticks\":\"\"},\"colorscale\":[[0.0,\"#0d0887\"],[0.1111111111111111,\"#46039f\"],[0.2222222222222222,\"#7201a8\"],[0.3333333333333333,\"#9c179e\"],[0.4444444444444444,\"#bd3786\"],[0.5555555555555556,\"#d8576b\"],[0.6666666666666666,\"#ed7953\"],[0.7777777777777778,\"#fb9f3a\"],[0.8888888888888888,\"#fdca26\"],[1.0,\"#f0f921\"]]}],\"choropleth\":[{\"type\":\"choropleth\",\"colorbar\":{\"outlinewidth\":0,\"ticks\":\"\"}}],\"histogram2d\":[{\"type\":\"histogram2d\",\"colorbar\":{\"outlinewidth\":0,\"ticks\":\"\"},\"colorscale\":[[0.0,\"#0d0887\"],[0.1111111111111111,\"#46039f\"],[0.2222222222222222,\"#7201a8\"],[0.3333333333333333,\"#9c179e\"],[0.4444444444444444,\"#bd3786\"],[0.5555555555555556,\"#d8576b\"],[0.6666666666666666,\"#ed7953\"],[0.7777777777777778,\"#fb9f3a\"],[0.8888888888888888,\"#fdca26\"],[1.0,\"#f0f921\"]]}],\"heatmap\":[{\"type\":\"heatmap\",\"colorbar\":{\"outlinewidth\":0,\"ticks\":\"\"},\"colorscale\":[[0.0,\"#0d0887\"],[0.1111111111111111,\"#46039f\"],[0.2222222222222222,\"#7201a8\"],[0.3333333333333333,\"#9c179e\"],[0.4444444444444444,\"#bd3786\"],[0.5555555555555556,\"#d8576b\"],[0.6666666666666666,\"#ed7953\"],[0.7777777777777778,\"#fb9f3a\"],[0.8888888888888888,\"#fdca26\"],[1.0,\"#f0f921\"]]}],\"heatmapgl\":[{\"type\":\"heatmapgl\",\"colorbar\":{\"outlinewidth\":0,\"ticks\":\"\"},\"colorscale\":[[0.0,\"#0d0887\"],[0.1111111111111111,\"#46039f\"],[0.2222222222222222,\"#7201a8\"],[0.3333333333333333,\"#9c179e\"],[0.4444444444444444,\"#bd3786\"],[0.5555555555555556,\"#d8576b\"],[0.6666666666666666,\"#ed7953\"],[0.7777777777777778,\"#fb9f3a\"],[0.8888888888888888,\"#fdca26\"],[1.0,\"#f0f921\"]]}],\"contourcarpet\":[{\"type\":\"contourcarpet\",\"colorbar\":{\"outlinewidth\":0,\"ticks\":\"\"}}],\"contour\":[{\"type\":\"contour\",\"colorbar\":{\"outlinewidth\":0,\"ticks\":\"\"},\"colorscale\":[[0.0,\"#0d0887\"],[0.1111111111111111,\"#46039f\"],[0.2222222222222222,\"#7201a8\"],[0.3333333333333333,\"#9c179e\"],[0.4444444444444444,\"#bd3786\"],[0.5555555555555556,\"#d8576b\"],[0.6666666666666666,\"#ed7953\"],[0.7777777777777778,\"#fb9f3a\"],[0.8888888888888888,\"#fdca26\"],[1.0,\"#f0f921\"]]}],\"surface\":[{\"type\":\"surface\",\"colorbar\":{\"outlinewidth\":0,\"ticks\":\"\"},\"colorscale\":[[0.0,\"#0d0887\"],[0.1111111111111111,\"#46039f\"],[0.2222222222222222,\"#7201a8\"],[0.3333333333333333,\"#9c179e\"],[0.4444444444444444,\"#bd3786\"],[0.5555555555555556,\"#d8576b\"],[0.6666666666666666,\"#ed7953\"],[0.7777777777777778,\"#fb9f3a\"],[0.8888888888888888,\"#fdca26\"],[1.0,\"#f0f921\"]]}],\"mesh3d\":[{\"type\":\"mesh3d\",\"colorbar\":{\"outlinewidth\":0,\"ticks\":\"\"}}],\"scatter\":[{\"fillpattern\":{\"fillmode\":\"overlay\",\"size\":10,\"solidity\":0.2},\"type\":\"scatter\"}],\"parcoords\":[{\"type\":\"parcoords\",\"line\":{\"colorbar\":{\"outlinewidth\":0,\"ticks\":\"\"}}}],\"scatterpolargl\":[{\"type\":\"scatterpolargl\",\"marker\":{\"colorbar\":{\"outlinewidth\":0,\"ticks\":\"\"}}}],\"bar\":[{\"error_x\":{\"color\":\"#2a3f5f\"},\"error_y\":{\"color\":\"#2a3f5f\"},\"marker\":{\"line\":{\"color\":\"#E5ECF6\",\"width\":0.5},\"pattern\":{\"fillmode\":\"overlay\",\"size\":10,\"solidity\":0.2}},\"type\":\"bar\"}],\"scattergeo\":[{\"type\":\"scattergeo\",\"marker\":{\"colorbar\":{\"outlinewidth\":0,\"ticks\":\"\"}}}],\"scatterpolar\":[{\"type\":\"scatterpolar\",\"marker\":{\"colorbar\":{\"outlinewidth\":0,\"ticks\":\"\"}}}],\"histogram\":[{\"marker\":{\"pattern\":{\"fillmode\":\"overlay\",\"size\":10,\"solidity\":0.2}},\"type\":\"histogram\"}],\"scattergl\":[{\"type\":\"scattergl\",\"marker\":{\"colorbar\":{\"outlinewidth\":0,\"ticks\":\"\"}}}],\"scatter3d\":[{\"type\":\"scatter3d\",\"line\":{\"colorbar\":{\"outlinewidth\":0,\"ticks\":\"\"}},\"marker\":{\"colorbar\":{\"outlinewidth\":0,\"ticks\":\"\"}}}],\"scattermapbox\":[{\"type\":\"scattermapbox\",\"marker\":{\"colorbar\":{\"outlinewidth\":0,\"ticks\":\"\"}}}],\"scatterternary\":[{\"type\":\"scatterternary\",\"marker\":{\"colorbar\":{\"outlinewidth\":0,\"ticks\":\"\"}}}],\"scattercarpet\":[{\"type\":\"scattercarpet\",\"marker\":{\"colorbar\":{\"outlinewidth\":0,\"ticks\":\"\"}}}],\"carpet\":[{\"aaxis\":{\"endlinecolor\":\"#2a3f5f\",\"gridcolor\":\"white\",\"linecolor\":\"white\",\"minorgridcolor\":\"white\",\"startlinecolor\":\"#2a3f5f\"},\"baxis\":{\"endlinecolor\":\"#2a3f5f\",\"gridcolor\":\"white\",\"linecolor\":\"white\",\"minorgridcolor\":\"white\",\"startlinecolor\":\"#2a3f5f\"},\"type\":\"carpet\"}],\"table\":[{\"cells\":{\"fill\":{\"color\":\"#EBF0F8\"},\"line\":{\"color\":\"white\"}},\"header\":{\"fill\":{\"color\":\"#C8D4E3\"},\"line\":{\"color\":\"white\"}},\"type\":\"table\"}],\"barpolar\":[{\"marker\":{\"line\":{\"color\":\"#E5ECF6\",\"width\":0.5},\"pattern\":{\"fillmode\":\"overlay\",\"size\":10,\"solidity\":0.2}},\"type\":\"barpolar\"}],\"pie\":[{\"automargin\":true,\"type\":\"pie\"}]},\"layout\":{\"autotypenumbers\":\"strict\",\"colorway\":[\"#636efa\",\"#EF553B\",\"#00cc96\",\"#ab63fa\",\"#FFA15A\",\"#19d3f3\",\"#FF6692\",\"#B6E880\",\"#FF97FF\",\"#FECB52\"],\"font\":{\"color\":\"#2a3f5f\"},\"hovermode\":\"closest\",\"hoverlabel\":{\"align\":\"left\"},\"paper_bgcolor\":\"white\",\"plot_bgcolor\":\"#E5ECF6\",\"polar\":{\"bgcolor\":\"#E5ECF6\",\"angularaxis\":{\"gridcolor\":\"white\",\"linecolor\":\"white\",\"ticks\":\"\"},\"radialaxis\":{\"gridcolor\":\"white\",\"linecolor\":\"white\",\"ticks\":\"\"}},\"ternary\":{\"bgcolor\":\"#E5ECF6\",\"aaxis\":{\"gridcolor\":\"white\",\"linecolor\":\"white\",\"ticks\":\"\"},\"baxis\":{\"gridcolor\":\"white\",\"linecolor\":\"white\",\"ticks\":\"\"},\"caxis\":{\"gridcolor\":\"white\",\"linecolor\":\"white\",\"ticks\":\"\"}},\"coloraxis\":{\"colorbar\":{\"outlinewidth\":0,\"ticks\":\"\"}},\"colorscale\":{\"sequential\":[[0.0,\"#0d0887\"],[0.1111111111111111,\"#46039f\"],[0.2222222222222222,\"#7201a8\"],[0.3333333333333333,\"#9c179e\"],[0.4444444444444444,\"#bd3786\"],[0.5555555555555556,\"#d8576b\"],[0.6666666666666666,\"#ed7953\"],[0.7777777777777778,\"#fb9f3a\"],[0.8888888888888888,\"#fdca26\"],[1.0,\"#f0f921\"]],\"sequentialminus\":[[0.0,\"#0d0887\"],[0.1111111111111111,\"#46039f\"],[0.2222222222222222,\"#7201a8\"],[0.3333333333333333,\"#9c179e\"],[0.4444444444444444,\"#bd3786\"],[0.5555555555555556,\"#d8576b\"],[0.6666666666666666,\"#ed7953\"],[0.7777777777777778,\"#fb9f3a\"],[0.8888888888888888,\"#fdca26\"],[1.0,\"#f0f921\"]],\"diverging\":[[0,\"#8e0152\"],[0.1,\"#c51b7d\"],[0.2,\"#de77ae\"],[0.3,\"#f1b6da\"],[0.4,\"#fde0ef\"],[0.5,\"#f7f7f7\"],[0.6,\"#e6f5d0\"],[0.7,\"#b8e186\"],[0.8,\"#7fbc41\"],[0.9,\"#4d9221\"],[1,\"#276419\"]]},\"xaxis\":{\"gridcolor\":\"white\",\"linecolor\":\"white\",\"ticks\":\"\",\"title\":{\"standoff\":15},\"zerolinecolor\":\"white\",\"automargin\":true,\"zerolinewidth\":2},\"yaxis\":{\"gridcolor\":\"white\",\"linecolor\":\"white\",\"ticks\":\"\",\"title\":{\"standoff\":15},\"zerolinecolor\":\"white\",\"automargin\":true,\"zerolinewidth\":2},\"scene\":{\"xaxis\":{\"backgroundcolor\":\"#E5ECF6\",\"gridcolor\":\"white\",\"linecolor\":\"white\",\"showbackground\":true,\"ticks\":\"\",\"zerolinecolor\":\"white\",\"gridwidth\":2},\"yaxis\":{\"backgroundcolor\":\"#E5ECF6\",\"gridcolor\":\"white\",\"linecolor\":\"white\",\"showbackground\":true,\"ticks\":\"\",\"zerolinecolor\":\"white\",\"gridwidth\":2},\"zaxis\":{\"backgroundcolor\":\"#E5ECF6\",\"gridcolor\":\"white\",\"linecolor\":\"white\",\"showbackground\":true,\"ticks\":\"\",\"zerolinecolor\":\"white\",\"gridwidth\":2}},\"shapedefaults\":{\"line\":{\"color\":\"#2a3f5f\"}},\"annotationdefaults\":{\"arrowcolor\":\"#2a3f5f\",\"arrowhead\":0,\"arrowwidth\":1},\"geo\":{\"bgcolor\":\"white\",\"landcolor\":\"#E5ECF6\",\"subunitcolor\":\"white\",\"showland\":true,\"showlakes\":true,\"lakecolor\":\"white\"},\"title\":{\"x\":0.05},\"mapbox\":{\"style\":\"light\"}}},\"xaxis\":{\"anchor\":\"y\",\"domain\":[0.0,1.0],\"title\":{\"text\":\"Location\"}},\"yaxis\":{\"anchor\":\"x\",\"domain\":[0.0,1.0],\"title\":{\"text\":\"Mobile_sim\"}},\"legend\":{\"title\":{\"text\":\"Gender\"},\"tracegroupgap\":0},\"margin\":{\"t\":60}},                        {\"responsive\": true}                    ).then(function(){\n",
       "                            \n",
       "var gd = document.getElementById('75c1b7b2-4d45-4927-bbfe-8fdca658bcfb');\n",
       "var x = new MutationObserver(function (mutations, observer) {{\n",
       "        var display = window.getComputedStyle(gd).display;\n",
       "        if (!display || display === 'none') {{\n",
       "            console.log([gd, 'removed!']);\n",
       "            Plotly.purge(gd);\n",
       "            observer.disconnect();\n",
       "        }}\n",
       "}});\n",
       "\n",
       "// Listen for the removal of the full notebook cells\n",
       "var notebookContainer = gd.closest('#notebook-container');\n",
       "if (notebookContainer) {{\n",
       "    x.observe(notebookContainer, {childList: true});\n",
       "}}\n",
       "\n",
       "// Listen for the clearing of the current output cell\n",
       "var outputEl = gd.closest('.output');\n",
       "if (outputEl) {{\n",
       "    x.observe(outputEl, {childList: true});\n",
       "}}\n",
       "\n",
       "                        })                };                });            </script>        </div>"
      ]
     },
     "metadata": {},
     "output_type": "display_data"
    }
   ],
   "source": [
    "import plotly.express as px\n",
    "import pandas as pd\n",
    "df = pd.read_csv('C://Users/dania/Desktop/Jupyter_notebooks/data.csv')\n",
    "#df\n",
    "fig = px.scatter(df, x=\"Location\", y=\"Mobile_sim\", color=\"Gender\",\n",
    "                   hover_data=['What_are_you?'])\n",
    "fig.show()"
   ]
  },
  {
   "cell_type": "code",
   "execution_count": 41,
   "id": "173d734b",
   "metadata": {},
   "outputs": [
    {
     "data": {
      "application/vnd.plotly.v1+json": {
       "config": {
        "plotlyServerURL": "https://plot.ly"
       },
       "data": [
        {
         "fillpattern": {
          "shape": ""
         },
         "hovertemplate": "Marital_Status?=Yes<br>Where_do_you_live?=Urbun<br>Location=%{x}<br>Age=%{y}<extra></extra>",
         "legendgroup": "Yes",
         "line": {
          "color": "#636efa"
         },
         "marker": {
          "symbol": "circle"
         },
         "mode": "lines",
         "name": "Yes",
         "orientation": "v",
         "showlegend": true,
         "stackgroup": "1",
         "type": "scatter",
         "x": [
          "Pakistan",
          "Pakistan",
          "Pakistan",
          "Pakistan",
          "Pakistan",
          "Pakistan",
          "Pakistan",
          "Pakistan",
          "Pakistan",
          "West",
          "Pakistan",
          "Pakistan",
          "Pakistan",
          "Pakistan",
          "Pakistan",
          "Pakistan",
          "Pakistan",
          "Pakistan",
          "Pakistan",
          "Pakistan",
          "Pakistan",
          "Pakistan",
          "Pakistan",
          "Pakistan",
          "Pakistan",
          "Pakistan",
          "Pakistan",
          "Pakistan",
          "Pakistan",
          "Pakistan",
          "Pakistan",
          "Pakistan",
          "Pakistan",
          "Pakistan",
          "Pakistan",
          "Pakistan",
          "Pakistan",
          "Pakistan",
          "Pakistan",
          "Pakistan",
          "Pakistan",
          "Pakistan",
          "Pakistan",
          "Pakistan",
          "Pakistan",
          "West",
          "Pakistan",
          "Pakistan",
          "Pakistan",
          "Pakistan",
          "Pakistan",
          "Pakistan",
          "Pakistan",
          "Pakistan",
          "Pakistan",
          "Pakistan",
          "Pakistan",
          "Pakistan",
          "Pakistan",
          "Pakistan",
          "Pakistan",
          "Pakistan",
          "Pakistan",
          "Pakistan",
          "Pakistan",
          "Pakistan",
          "Pakistan",
          "Pakistan",
          "Pakistan",
          "Pakistan",
          "Pakistan",
          "Pakistan",
          "Pakistan"
         ],
         "xaxis": "x",
         "y": [
          "36-40",
          "31-35",
          "31-35",
          "36-40",
          "31-35",
          "31-35",
          "31-35",
          "31-35",
          "31-35",
          "31-35",
          "26-30",
          "16-20",
          "26-30",
          "36-40",
          "31-35",
          "31-35",
          "31-35",
          "21-25",
          "26-30",
          "26-30",
          "26-30",
          "31-35",
          "36-40",
          "31-35",
          "31-35",
          "26-30",
          "31-35",
          "41-45",
          "41-45",
          "26-30",
          "36-40",
          "26-30",
          "41-45",
          "26-30",
          "31-35",
          "46-60",
          "26-30",
          "26-30",
          "31-35",
          "26-30",
          "31-35",
          "21-25",
          "26-30",
          "26-30",
          "26-30",
          "31-35",
          "31-35",
          "31-35",
          "21-25",
          "31-35",
          "31-35",
          "36-40",
          "31-35",
          "31-35",
          "46-60",
          "31-35",
          "41-45",
          "41-45",
          "26-30",
          "26-30",
          "21-25",
          "26-30",
          "36-40",
          "41-45",
          "31-35",
          "31-35",
          "31-35",
          "36-40",
          "36-40",
          "31-35",
          "26-30",
          "31-35",
          "31-35"
         ],
         "yaxis": "y"
        },
        {
         "fillpattern": {
          "shape": ""
         },
         "hovertemplate": "Marital_Status?=Yes<br>Where_do_you_live?=Rural<br>Location=%{x}<br>Age=%{y}<extra></extra>",
         "legendgroup": "Yes",
         "line": {
          "color": "#636efa"
         },
         "marker": {
          "symbol": "circle"
         },
         "mode": "lines",
         "name": "Yes",
         "orientation": "v",
         "showlegend": false,
         "stackgroup": "1",
         "type": "scatter",
         "x": [
          "Pakistan",
          "Pakistan",
          "Pakistan",
          "Pakistan",
          "Pakistan",
          "Pakistan",
          "Pakistan",
          "Pakistan",
          "Pakistan",
          "Pakistan",
          "Pakistan",
          "Pakistan",
          "Pakistan",
          "Pakistan",
          "Pakistan",
          "Pakistan",
          "Pakistan",
          "Pakistan",
          "Pakistan",
          "Pakistan",
          "Pakistan",
          "Pakistan",
          "Pakistan",
          "Pakistan",
          "Pakistan",
          "Pakistan",
          "Pakistan",
          "Pakistan",
          "Pakistan"
         ],
         "xaxis": "x",
         "y": [
          "31-35",
          "31-35",
          "41-45",
          "41-45",
          "36-40",
          "26-30",
          "26-30",
          "31-35",
          "31-35",
          "26-30",
          "36-40",
          "36-40",
          "26-30",
          "31-35",
          "26-30",
          "31-35",
          "31-35",
          "31-35",
          "46-60",
          "31-35",
          "31-35",
          "36-40",
          "31-35",
          "31-35",
          "31-35",
          "26-30",
          "31-35",
          "31-35",
          "26-30"
         ],
         "yaxis": "y"
        },
        {
         "fillpattern": {
          "shape": ""
         },
         "hovertemplate": "Marital_Status?=Yes<br>Where_do_you_live?=International<br>Location=%{x}<br>Age=%{y}<extra></extra>",
         "legendgroup": "Yes",
         "line": {
          "color": "#636efa"
         },
         "marker": {
          "symbol": "circle"
         },
         "mode": "lines",
         "name": "Yes",
         "orientation": "v",
         "showlegend": false,
         "stackgroup": "1",
         "type": "scatter",
         "x": [
          "West",
          "West",
          "West",
          "West",
          "West",
          "East",
          "West",
          "Pakistan",
          "West",
          "West",
          "West",
          "West",
          "West",
          "East",
          "West",
          "East",
          "West",
          "West",
          "East"
         ],
         "xaxis": "x",
         "y": [
          "26-30",
          "31-35",
          "31-35",
          "31-35",
          "26-30",
          "26-30",
          "41-45",
          "36-40",
          "31-35",
          "26-30",
          "31-35",
          "31-35",
          "31-35",
          "26-30",
          "31-35",
          "36-40",
          "31-35",
          "31-35",
          "26-30"
         ],
         "yaxis": "y"
        },
        {
         "fillpattern": {
          "shape": ""
         },
         "hovertemplate": "Marital_Status?=No<br>Where_do_you_live?=Urbun<br>Location=%{x}<br>Age=%{y}<extra></extra>",
         "legendgroup": "No",
         "line": {
          "color": "#EF553B"
         },
         "marker": {
          "symbol": "circle"
         },
         "mode": "lines",
         "name": "No",
         "orientation": "v",
         "showlegend": true,
         "stackgroup": "1",
         "type": "scatter",
         "x": [
          "Pakistan",
          "Pakistan",
          "Pakistan",
          "Pakistan",
          "Pakistan",
          "Pakistan",
          "Pakistan",
          "Pakistan",
          "Pakistan",
          "Pakistan",
          "Pakistan",
          "Pakistan",
          "Pakistan",
          "Pakistan",
          "Pakistan",
          "Pakistan",
          "Pakistan",
          "East",
          "Pakistan",
          "Pakistan",
          "Pakistan",
          "Pakistan",
          "Pakistan",
          "Pakistan",
          "Pakistan",
          "Pakistan",
          "Pakistan",
          "Pakistan",
          "Pakistan",
          "Pakistan",
          "Pakistan",
          "Pakistan",
          "Pakistan",
          "Pakistan",
          "Pakistan",
          "Pakistan",
          "Pakistan",
          "Pakistan",
          "Pakistan",
          "Pakistan",
          "Pakistan",
          "Pakistan",
          "Pakistan",
          "Pakistan",
          "Pakistan",
          "Pakistan",
          "Pakistan",
          "Pakistan",
          "Pakistan",
          "Pakistan",
          "Pakistan",
          "Pakistan",
          "Pakistan",
          "Pakistan",
          "Pakistan",
          "Pakistan",
          "Pakistan",
          "Pakistan",
          "Pakistan",
          "Pakistan",
          "Pakistan",
          "Pakistan",
          "Pakistan",
          "Pakistan",
          "Pakistan",
          "Pakistan",
          "Pakistan",
          "Pakistan",
          "Pakistan",
          "Pakistan",
          "Pakistan",
          "Pakistan",
          "Pakistan",
          "Pakistan",
          "Pakistan",
          "Pakistan",
          "Pakistan",
          "Pakistan",
          "Pakistan",
          "Pakistan",
          "Pakistan",
          "Pakistan",
          "Pakistan",
          "Pakistan",
          "Pakistan",
          "Pakistan",
          "Pakistan",
          "Pakistan",
          "Pakistan",
          "Pakistan",
          "Pakistan",
          "Pakistan",
          "Pakistan",
          "Pakistan",
          "Pakistan",
          "Pakistan",
          "Pakistan",
          "Pakistan",
          "Pakistan",
          "Pakistan",
          "Pakistan",
          "Pakistan",
          "Pakistan",
          "Pakistan",
          "Pakistan",
          "Pakistan",
          "Pakistan",
          "Pakistan",
          "Pakistan",
          "Pakistan",
          "Pakistan",
          "Pakistan",
          "Pakistan",
          "Pakistan",
          "Pakistan",
          "Pakistan",
          "Pakistan",
          "Pakistan",
          "Pakistan",
          "Pakistan",
          "Pakistan",
          "Pakistan",
          "Pakistan",
          "Pakistan",
          "Pakistan",
          "Pakistan",
          "Pakistan",
          "Pakistan",
          "East",
          "Pakistan",
          "Pakistan",
          "Pakistan",
          "Pakistan",
          "Pakistan",
          "Pakistan",
          "Pakistan",
          "Pakistan",
          "Pakistan",
          "Pakistan",
          "Pakistan",
          "Pakistan",
          "Pakistan",
          "Pakistan",
          "Pakistan"
         ],
         "xaxis": "x",
         "y": [
          "26-30",
          "21-25",
          "26-30",
          "21-25",
          "21-25",
          "31-35",
          "21-25",
          "21-25",
          "21-25",
          "26-30",
          "26-30",
          "21-25",
          "26-30",
          "21-25",
          "26-30",
          "26-30",
          "26-30",
          "26-30",
          "36-40",
          "26-30",
          "26-30",
          "26-30",
          "16-20",
          "31-35",
          "26-30",
          "26-30",
          "21-25",
          "21-25",
          "26-30",
          "26-30",
          "16-20",
          "21-25",
          "16-20",
          "26-30",
          "21-25",
          "31-35",
          "21-25",
          "26-30",
          "21-25",
          "21-25",
          "16-20",
          "26-30",
          "21-25",
          "21-25",
          "21-25",
          "26-30",
          "26-30",
          "26-30",
          "26-30",
          "21-25",
          "26-30",
          "31-35",
          "31-35",
          "26-30",
          "26-30",
          "26-30",
          "21-25",
          "21-25",
          "26-30",
          "21-25",
          "31-35",
          "21-25",
          "21-25",
          "26-30",
          "21-25",
          "26-30",
          "21-25",
          "21-25",
          "26-30",
          "26-30",
          "21-25",
          "21-25",
          "26-30",
          "31-35",
          "21-25",
          "16-20",
          "21-25",
          "31-35",
          "16-20",
          "21-25",
          "21-25",
          "21-25",
          "26-30",
          "31-35",
          "21-25",
          "21-25",
          "16-20",
          "16-20",
          "21-25",
          "21-25",
          "21-25",
          "26-30",
          "21-25",
          "21-25",
          "26-30",
          "26-30",
          "21-25",
          "31-35",
          "26-30",
          "26-30",
          "16-20",
          "21-25",
          "21-25",
          "26-30",
          "21-25",
          "21-25",
          "21-25",
          "26-30",
          "21-25",
          "21-25",
          "26-30",
          "21-25",
          "21-25",
          "21-25",
          "26-30",
          "26-30",
          "31-35",
          "26-30",
          "31-35",
          "31-35",
          "26-30",
          "31-35",
          "26-30",
          "26-30",
          "26-30",
          "26-30",
          "21-25",
          "21-25",
          "16-20",
          "26-30",
          "26-30",
          "31-35",
          "26-30",
          "16-20",
          "26-30",
          "26-30",
          "26-30",
          "21-25",
          "26-30",
          "26-30",
          "21-25",
          "21-25",
          "21-25",
          "26-30"
         ],
         "yaxis": "y"
        },
        {
         "fillpattern": {
          "shape": ""
         },
         "hovertemplate": "Marital_Status?=No<br>Where_do_you_live?=Rural<br>Location=%{x}<br>Age=%{y}<extra></extra>",
         "legendgroup": "No",
         "line": {
          "color": "#EF553B"
         },
         "marker": {
          "symbol": "circle"
         },
         "mode": "lines",
         "name": "No",
         "orientation": "v",
         "showlegend": false,
         "stackgroup": "1",
         "type": "scatter",
         "x": [
          "Pakistan",
          "Pakistan",
          "Pakistan",
          "Pakistan",
          "Pakistan",
          "Pakistan",
          "Pakistan",
          "Pakistan",
          "Pakistan",
          "Pakistan",
          "Pakistan",
          "Pakistan",
          "Pakistan",
          "Pakistan",
          "Pakistan",
          "Pakistan",
          "Pakistan",
          "Pakistan",
          "Pakistan",
          "Pakistan",
          "Pakistan",
          "Pakistan",
          "Pakistan",
          "West",
          "Pakistan",
          "Pakistan",
          "Pakistan",
          "Pakistan",
          "Pakistan",
          "India",
          "Pakistan",
          "Pakistan",
          "Pakistan",
          "Pakistan",
          "Pakistan",
          "Pakistan",
          "Pakistan",
          "Pakistan",
          "Pakistan",
          "Pakistan",
          "Pakistan",
          "Pakistan",
          "Pakistan",
          "Pakistan",
          "Pakistan",
          "Pakistan",
          "Pakistan",
          "Pakistan",
          "Pakistan",
          "Pakistan",
          "Pakistan",
          "Pakistan",
          "Pakistan",
          "Pakistan",
          "Pakistan",
          "Pakistan",
          "Pakistan",
          "Pakistan",
          "Pakistan",
          "Pakistan",
          "Pakistan",
          "Pakistan",
          "Pakistan",
          "Pakistan",
          "Pakistan",
          "Pakistan",
          "India",
          "Pakistan",
          "Pakistan",
          "Pakistan",
          "Pakistan",
          "Pakistan",
          "Pakistan",
          "Pakistan",
          "Pakistan",
          "Pakistan",
          "Pakistan",
          "Pakistan",
          "Pakistan",
          "Pakistan",
          "Pakistan",
          "Pakistan"
         ],
         "xaxis": "x",
         "y": [
          "26-30",
          "21-25",
          "21-25",
          "26-30",
          "26-30",
          "21-25",
          "21-25",
          "21-25",
          "21-25",
          "21-25",
          "21-25",
          "16-20",
          "21-25",
          "21-25",
          "21-25",
          "26-30",
          "21-25",
          "21-25",
          "26-30",
          "26-30",
          "26-30",
          "21-25",
          "21-25",
          "16-20",
          "26-30",
          "21-25",
          "26-30",
          "21-25",
          "31-35",
          "21-25",
          "26-30",
          "21-25",
          "26-30",
          "31-35",
          "16-20",
          "26-30",
          "21-25",
          "16-20",
          "21-25",
          "21-25",
          "26-30",
          "26-30",
          "26-30",
          "26-30",
          "26-30",
          "21-25",
          "21-25",
          "26-30",
          "21-25",
          "21-25",
          "26-30",
          "21-25",
          "21-25",
          "21-25",
          "21-25",
          "26-30",
          "21-25",
          "21-25",
          "21-25",
          "21-25",
          "21-25",
          "21-25",
          "31-35",
          "21-25",
          "26-30",
          "26-30",
          "26-30",
          "26-30",
          "21-25",
          "26-30",
          "21-25",
          "21-25",
          "21-25",
          "16-20",
          "26-30",
          "26-30",
          "26-30",
          "26-30",
          "16-20",
          "26-30",
          "21-25",
          "21-25"
         ],
         "yaxis": "y"
        },
        {
         "fillpattern": {
          "shape": ""
         },
         "hovertemplate": "Marital_Status?=No<br>Where_do_you_live?=International<br>Location=%{x}<br>Age=%{y}<extra></extra>",
         "legendgroup": "No",
         "line": {
          "color": "#EF553B"
         },
         "marker": {
          "symbol": "circle"
         },
         "mode": "lines",
         "name": "No",
         "orientation": "v",
         "showlegend": false,
         "stackgroup": "1",
         "type": "scatter",
         "x": [
          "West",
          "East",
          "West",
          "East",
          "East",
          "West",
          "East",
          "East",
          "East",
          "West",
          "West",
          "Pakistan",
          "East",
          "West",
          "West",
          "West",
          "East",
          "West",
          "West",
          "West",
          "West",
          "West",
          "West",
          "West",
          "West",
          "West",
          "West",
          "West"
         ],
         "xaxis": "x",
         "y": [
          "21-25",
          "21-25",
          "26-30",
          "21-25",
          "26-30",
          "21-25",
          "26-30",
          "31-35",
          "26-30",
          "26-30",
          "26-30",
          "21-25",
          "26-30",
          "21-25",
          "31-35",
          "26-30",
          "26-30",
          "26-30",
          "26-30",
          "Jan-15",
          "16-20",
          "26-30",
          "Jan-15",
          "21-25",
          "31-35",
          "26-30",
          "21-25",
          "26-30"
         ],
         "yaxis": "y"
        }
       ],
       "layout": {
        "legend": {
         "title": {
          "text": "Marital_Status?"
         },
         "tracegroupgap": 0
        },
        "margin": {
         "t": 60
        },
        "template": {
         "data": {
          "bar": [
           {
            "error_x": {
             "color": "#2a3f5f"
            },
            "error_y": {
             "color": "#2a3f5f"
            },
            "marker": {
             "line": {
              "color": "#E5ECF6",
              "width": 0.5
             },
             "pattern": {
              "fillmode": "overlay",
              "size": 10,
              "solidity": 0.2
             }
            },
            "type": "bar"
           }
          ],
          "barpolar": [
           {
            "marker": {
             "line": {
              "color": "#E5ECF6",
              "width": 0.5
             },
             "pattern": {
              "fillmode": "overlay",
              "size": 10,
              "solidity": 0.2
             }
            },
            "type": "barpolar"
           }
          ],
          "carpet": [
           {
            "aaxis": {
             "endlinecolor": "#2a3f5f",
             "gridcolor": "white",
             "linecolor": "white",
             "minorgridcolor": "white",
             "startlinecolor": "#2a3f5f"
            },
            "baxis": {
             "endlinecolor": "#2a3f5f",
             "gridcolor": "white",
             "linecolor": "white",
             "minorgridcolor": "white",
             "startlinecolor": "#2a3f5f"
            },
            "type": "carpet"
           }
          ],
          "choropleth": [
           {
            "colorbar": {
             "outlinewidth": 0,
             "ticks": ""
            },
            "type": "choropleth"
           }
          ],
          "contour": [
           {
            "colorbar": {
             "outlinewidth": 0,
             "ticks": ""
            },
            "colorscale": [
             [
              0,
              "#0d0887"
             ],
             [
              0.1111111111111111,
              "#46039f"
             ],
             [
              0.2222222222222222,
              "#7201a8"
             ],
             [
              0.3333333333333333,
              "#9c179e"
             ],
             [
              0.4444444444444444,
              "#bd3786"
             ],
             [
              0.5555555555555556,
              "#d8576b"
             ],
             [
              0.6666666666666666,
              "#ed7953"
             ],
             [
              0.7777777777777778,
              "#fb9f3a"
             ],
             [
              0.8888888888888888,
              "#fdca26"
             ],
             [
              1,
              "#f0f921"
             ]
            ],
            "type": "contour"
           }
          ],
          "contourcarpet": [
           {
            "colorbar": {
             "outlinewidth": 0,
             "ticks": ""
            },
            "type": "contourcarpet"
           }
          ],
          "heatmap": [
           {
            "colorbar": {
             "outlinewidth": 0,
             "ticks": ""
            },
            "colorscale": [
             [
              0,
              "#0d0887"
             ],
             [
              0.1111111111111111,
              "#46039f"
             ],
             [
              0.2222222222222222,
              "#7201a8"
             ],
             [
              0.3333333333333333,
              "#9c179e"
             ],
             [
              0.4444444444444444,
              "#bd3786"
             ],
             [
              0.5555555555555556,
              "#d8576b"
             ],
             [
              0.6666666666666666,
              "#ed7953"
             ],
             [
              0.7777777777777778,
              "#fb9f3a"
             ],
             [
              0.8888888888888888,
              "#fdca26"
             ],
             [
              1,
              "#f0f921"
             ]
            ],
            "type": "heatmap"
           }
          ],
          "heatmapgl": [
           {
            "colorbar": {
             "outlinewidth": 0,
             "ticks": ""
            },
            "colorscale": [
             [
              0,
              "#0d0887"
             ],
             [
              0.1111111111111111,
              "#46039f"
             ],
             [
              0.2222222222222222,
              "#7201a8"
             ],
             [
              0.3333333333333333,
              "#9c179e"
             ],
             [
              0.4444444444444444,
              "#bd3786"
             ],
             [
              0.5555555555555556,
              "#d8576b"
             ],
             [
              0.6666666666666666,
              "#ed7953"
             ],
             [
              0.7777777777777778,
              "#fb9f3a"
             ],
             [
              0.8888888888888888,
              "#fdca26"
             ],
             [
              1,
              "#f0f921"
             ]
            ],
            "type": "heatmapgl"
           }
          ],
          "histogram": [
           {
            "marker": {
             "pattern": {
              "fillmode": "overlay",
              "size": 10,
              "solidity": 0.2
             }
            },
            "type": "histogram"
           }
          ],
          "histogram2d": [
           {
            "colorbar": {
             "outlinewidth": 0,
             "ticks": ""
            },
            "colorscale": [
             [
              0,
              "#0d0887"
             ],
             [
              0.1111111111111111,
              "#46039f"
             ],
             [
              0.2222222222222222,
              "#7201a8"
             ],
             [
              0.3333333333333333,
              "#9c179e"
             ],
             [
              0.4444444444444444,
              "#bd3786"
             ],
             [
              0.5555555555555556,
              "#d8576b"
             ],
             [
              0.6666666666666666,
              "#ed7953"
             ],
             [
              0.7777777777777778,
              "#fb9f3a"
             ],
             [
              0.8888888888888888,
              "#fdca26"
             ],
             [
              1,
              "#f0f921"
             ]
            ],
            "type": "histogram2d"
           }
          ],
          "histogram2dcontour": [
           {
            "colorbar": {
             "outlinewidth": 0,
             "ticks": ""
            },
            "colorscale": [
             [
              0,
              "#0d0887"
             ],
             [
              0.1111111111111111,
              "#46039f"
             ],
             [
              0.2222222222222222,
              "#7201a8"
             ],
             [
              0.3333333333333333,
              "#9c179e"
             ],
             [
              0.4444444444444444,
              "#bd3786"
             ],
             [
              0.5555555555555556,
              "#d8576b"
             ],
             [
              0.6666666666666666,
              "#ed7953"
             ],
             [
              0.7777777777777778,
              "#fb9f3a"
             ],
             [
              0.8888888888888888,
              "#fdca26"
             ],
             [
              1,
              "#f0f921"
             ]
            ],
            "type": "histogram2dcontour"
           }
          ],
          "mesh3d": [
           {
            "colorbar": {
             "outlinewidth": 0,
             "ticks": ""
            },
            "type": "mesh3d"
           }
          ],
          "parcoords": [
           {
            "line": {
             "colorbar": {
              "outlinewidth": 0,
              "ticks": ""
             }
            },
            "type": "parcoords"
           }
          ],
          "pie": [
           {
            "automargin": true,
            "type": "pie"
           }
          ],
          "scatter": [
           {
            "fillpattern": {
             "fillmode": "overlay",
             "size": 10,
             "solidity": 0.2
            },
            "type": "scatter"
           }
          ],
          "scatter3d": [
           {
            "line": {
             "colorbar": {
              "outlinewidth": 0,
              "ticks": ""
             }
            },
            "marker": {
             "colorbar": {
              "outlinewidth": 0,
              "ticks": ""
             }
            },
            "type": "scatter3d"
           }
          ],
          "scattercarpet": [
           {
            "marker": {
             "colorbar": {
              "outlinewidth": 0,
              "ticks": ""
             }
            },
            "type": "scattercarpet"
           }
          ],
          "scattergeo": [
           {
            "marker": {
             "colorbar": {
              "outlinewidth": 0,
              "ticks": ""
             }
            },
            "type": "scattergeo"
           }
          ],
          "scattergl": [
           {
            "marker": {
             "colorbar": {
              "outlinewidth": 0,
              "ticks": ""
             }
            },
            "type": "scattergl"
           }
          ],
          "scattermapbox": [
           {
            "marker": {
             "colorbar": {
              "outlinewidth": 0,
              "ticks": ""
             }
            },
            "type": "scattermapbox"
           }
          ],
          "scatterpolar": [
           {
            "marker": {
             "colorbar": {
              "outlinewidth": 0,
              "ticks": ""
             }
            },
            "type": "scatterpolar"
           }
          ],
          "scatterpolargl": [
           {
            "marker": {
             "colorbar": {
              "outlinewidth": 0,
              "ticks": ""
             }
            },
            "type": "scatterpolargl"
           }
          ],
          "scatterternary": [
           {
            "marker": {
             "colorbar": {
              "outlinewidth": 0,
              "ticks": ""
             }
            },
            "type": "scatterternary"
           }
          ],
          "surface": [
           {
            "colorbar": {
             "outlinewidth": 0,
             "ticks": ""
            },
            "colorscale": [
             [
              0,
              "#0d0887"
             ],
             [
              0.1111111111111111,
              "#46039f"
             ],
             [
              0.2222222222222222,
              "#7201a8"
             ],
             [
              0.3333333333333333,
              "#9c179e"
             ],
             [
              0.4444444444444444,
              "#bd3786"
             ],
             [
              0.5555555555555556,
              "#d8576b"
             ],
             [
              0.6666666666666666,
              "#ed7953"
             ],
             [
              0.7777777777777778,
              "#fb9f3a"
             ],
             [
              0.8888888888888888,
              "#fdca26"
             ],
             [
              1,
              "#f0f921"
             ]
            ],
            "type": "surface"
           }
          ],
          "table": [
           {
            "cells": {
             "fill": {
              "color": "#EBF0F8"
             },
             "line": {
              "color": "white"
             }
            },
            "header": {
             "fill": {
              "color": "#C8D4E3"
             },
             "line": {
              "color": "white"
             }
            },
            "type": "table"
           }
          ]
         },
         "layout": {
          "annotationdefaults": {
           "arrowcolor": "#2a3f5f",
           "arrowhead": 0,
           "arrowwidth": 1
          },
          "autotypenumbers": "strict",
          "coloraxis": {
           "colorbar": {
            "outlinewidth": 0,
            "ticks": ""
           }
          },
          "colorscale": {
           "diverging": [
            [
             0,
             "#8e0152"
            ],
            [
             0.1,
             "#c51b7d"
            ],
            [
             0.2,
             "#de77ae"
            ],
            [
             0.3,
             "#f1b6da"
            ],
            [
             0.4,
             "#fde0ef"
            ],
            [
             0.5,
             "#f7f7f7"
            ],
            [
             0.6,
             "#e6f5d0"
            ],
            [
             0.7,
             "#b8e186"
            ],
            [
             0.8,
             "#7fbc41"
            ],
            [
             0.9,
             "#4d9221"
            ],
            [
             1,
             "#276419"
            ]
           ],
           "sequential": [
            [
             0,
             "#0d0887"
            ],
            [
             0.1111111111111111,
             "#46039f"
            ],
            [
             0.2222222222222222,
             "#7201a8"
            ],
            [
             0.3333333333333333,
             "#9c179e"
            ],
            [
             0.4444444444444444,
             "#bd3786"
            ],
            [
             0.5555555555555556,
             "#d8576b"
            ],
            [
             0.6666666666666666,
             "#ed7953"
            ],
            [
             0.7777777777777778,
             "#fb9f3a"
            ],
            [
             0.8888888888888888,
             "#fdca26"
            ],
            [
             1,
             "#f0f921"
            ]
           ],
           "sequentialminus": [
            [
             0,
             "#0d0887"
            ],
            [
             0.1111111111111111,
             "#46039f"
            ],
            [
             0.2222222222222222,
             "#7201a8"
            ],
            [
             0.3333333333333333,
             "#9c179e"
            ],
            [
             0.4444444444444444,
             "#bd3786"
            ],
            [
             0.5555555555555556,
             "#d8576b"
            ],
            [
             0.6666666666666666,
             "#ed7953"
            ],
            [
             0.7777777777777778,
             "#fb9f3a"
            ],
            [
             0.8888888888888888,
             "#fdca26"
            ],
            [
             1,
             "#f0f921"
            ]
           ]
          },
          "colorway": [
           "#636efa",
           "#EF553B",
           "#00cc96",
           "#ab63fa",
           "#FFA15A",
           "#19d3f3",
           "#FF6692",
           "#B6E880",
           "#FF97FF",
           "#FECB52"
          ],
          "font": {
           "color": "#2a3f5f"
          },
          "geo": {
           "bgcolor": "white",
           "lakecolor": "white",
           "landcolor": "#E5ECF6",
           "showlakes": true,
           "showland": true,
           "subunitcolor": "white"
          },
          "hoverlabel": {
           "align": "left"
          },
          "hovermode": "closest",
          "mapbox": {
           "style": "light"
          },
          "paper_bgcolor": "white",
          "plot_bgcolor": "#E5ECF6",
          "polar": {
           "angularaxis": {
            "gridcolor": "white",
            "linecolor": "white",
            "ticks": ""
           },
           "bgcolor": "#E5ECF6",
           "radialaxis": {
            "gridcolor": "white",
            "linecolor": "white",
            "ticks": ""
           }
          },
          "scene": {
           "xaxis": {
            "backgroundcolor": "#E5ECF6",
            "gridcolor": "white",
            "gridwidth": 2,
            "linecolor": "white",
            "showbackground": true,
            "ticks": "",
            "zerolinecolor": "white"
           },
           "yaxis": {
            "backgroundcolor": "#E5ECF6",
            "gridcolor": "white",
            "gridwidth": 2,
            "linecolor": "white",
            "showbackground": true,
            "ticks": "",
            "zerolinecolor": "white"
           },
           "zaxis": {
            "backgroundcolor": "#E5ECF6",
            "gridcolor": "white",
            "gridwidth": 2,
            "linecolor": "white",
            "showbackground": true,
            "ticks": "",
            "zerolinecolor": "white"
           }
          },
          "shapedefaults": {
           "line": {
            "color": "#2a3f5f"
           }
          },
          "ternary": {
           "aaxis": {
            "gridcolor": "white",
            "linecolor": "white",
            "ticks": ""
           },
           "baxis": {
            "gridcolor": "white",
            "linecolor": "white",
            "ticks": ""
           },
           "bgcolor": "#E5ECF6",
           "caxis": {
            "gridcolor": "white",
            "linecolor": "white",
            "ticks": ""
           }
          },
          "title": {
           "x": 0.05
          },
          "xaxis": {
           "automargin": true,
           "gridcolor": "white",
           "linecolor": "white",
           "ticks": "",
           "title": {
            "standoff": 15
           },
           "zerolinecolor": "white",
           "zerolinewidth": 2
          },
          "yaxis": {
           "automargin": true,
           "gridcolor": "white",
           "linecolor": "white",
           "ticks": "",
           "title": {
            "standoff": 15
           },
           "zerolinecolor": "white",
           "zerolinewidth": 2
          }
         }
        },
        "xaxis": {
         "anchor": "y",
         "domain": [
          0,
          1
         ],
         "title": {
          "text": "Location"
         }
        },
        "yaxis": {
         "anchor": "x",
         "domain": [
          0,
          1
         ],
         "title": {
          "text": "Age"
         }
        }
       }
      },
      "text/html": [
       "<div>                            <div id=\"ac6f942d-b779-42de-b762-6463a889dd94\" class=\"plotly-graph-div\" style=\"height:525px; width:100%;\"></div>            <script type=\"text/javascript\">                require([\"plotly\"], function(Plotly) {                    window.PLOTLYENV=window.PLOTLYENV || {};                                    if (document.getElementById(\"ac6f942d-b779-42de-b762-6463a889dd94\")) {                    Plotly.newPlot(                        \"ac6f942d-b779-42de-b762-6463a889dd94\",                        [{\"fillpattern\":{\"shape\":\"\"},\"hovertemplate\":\"Marital_Status?=Yes<br>Where_do_you_live?=Urbun<br>Location=%{x}<br>Age=%{y}<extra></extra>\",\"legendgroup\":\"Yes\",\"line\":{\"color\":\"#636efa\"},\"marker\":{\"symbol\":\"circle\"},\"mode\":\"lines\",\"name\":\"Yes\",\"orientation\":\"v\",\"showlegend\":true,\"stackgroup\":\"1\",\"x\":[\"Pakistan\",\"Pakistan\",\"Pakistan\",\"Pakistan\",\"Pakistan\",\"Pakistan\",\"Pakistan\",\"Pakistan\",\"Pakistan\",\"West\",\"Pakistan\",\"Pakistan\",\"Pakistan\",\"Pakistan\",\"Pakistan\",\"Pakistan\",\"Pakistan\",\"Pakistan\",\"Pakistan\",\"Pakistan\",\"Pakistan\",\"Pakistan\",\"Pakistan\",\"Pakistan\",\"Pakistan\",\"Pakistan\",\"Pakistan\",\"Pakistan\",\"Pakistan\",\"Pakistan\",\"Pakistan\",\"Pakistan\",\"Pakistan\",\"Pakistan\",\"Pakistan\",\"Pakistan\",\"Pakistan\",\"Pakistan\",\"Pakistan\",\"Pakistan\",\"Pakistan\",\"Pakistan\",\"Pakistan\",\"Pakistan\",\"Pakistan\",\"West\",\"Pakistan\",\"Pakistan\",\"Pakistan\",\"Pakistan\",\"Pakistan\",\"Pakistan\",\"Pakistan\",\"Pakistan\",\"Pakistan\",\"Pakistan\",\"Pakistan\",\"Pakistan\",\"Pakistan\",\"Pakistan\",\"Pakistan\",\"Pakistan\",\"Pakistan\",\"Pakistan\",\"Pakistan\",\"Pakistan\",\"Pakistan\",\"Pakistan\",\"Pakistan\",\"Pakistan\",\"Pakistan\",\"Pakistan\",\"Pakistan\"],\"xaxis\":\"x\",\"y\":[\"36-40\",\"31-35\",\"31-35\",\"36-40\",\"31-35\",\"31-35\",\"31-35\",\"31-35\",\"31-35\",\"31-35\",\"26-30\",\"16-20\",\"26-30\",\"36-40\",\"31-35\",\"31-35\",\"31-35\",\"21-25\",\"26-30\",\"26-30\",\"26-30\",\"31-35\",\"36-40\",\"31-35\",\"31-35\",\"26-30\",\"31-35\",\"41-45\",\"41-45\",\"26-30\",\"36-40\",\"26-30\",\"41-45\",\"26-30\",\"31-35\",\"46-60\",\"26-30\",\"26-30\",\"31-35\",\"26-30\",\"31-35\",\"21-25\",\"26-30\",\"26-30\",\"26-30\",\"31-35\",\"31-35\",\"31-35\",\"21-25\",\"31-35\",\"31-35\",\"36-40\",\"31-35\",\"31-35\",\"46-60\",\"31-35\",\"41-45\",\"41-45\",\"26-30\",\"26-30\",\"21-25\",\"26-30\",\"36-40\",\"41-45\",\"31-35\",\"31-35\",\"31-35\",\"36-40\",\"36-40\",\"31-35\",\"26-30\",\"31-35\",\"31-35\"],\"yaxis\":\"y\",\"type\":\"scatter\"},{\"fillpattern\":{\"shape\":\"\"},\"hovertemplate\":\"Marital_Status?=Yes<br>Where_do_you_live?=Rural<br>Location=%{x}<br>Age=%{y}<extra></extra>\",\"legendgroup\":\"Yes\",\"line\":{\"color\":\"#636efa\"},\"marker\":{\"symbol\":\"circle\"},\"mode\":\"lines\",\"name\":\"Yes\",\"orientation\":\"v\",\"showlegend\":false,\"stackgroup\":\"1\",\"x\":[\"Pakistan\",\"Pakistan\",\"Pakistan\",\"Pakistan\",\"Pakistan\",\"Pakistan\",\"Pakistan\",\"Pakistan\",\"Pakistan\",\"Pakistan\",\"Pakistan\",\"Pakistan\",\"Pakistan\",\"Pakistan\",\"Pakistan\",\"Pakistan\",\"Pakistan\",\"Pakistan\",\"Pakistan\",\"Pakistan\",\"Pakistan\",\"Pakistan\",\"Pakistan\",\"Pakistan\",\"Pakistan\",\"Pakistan\",\"Pakistan\",\"Pakistan\",\"Pakistan\"],\"xaxis\":\"x\",\"y\":[\"31-35\",\"31-35\",\"41-45\",\"41-45\",\"36-40\",\"26-30\",\"26-30\",\"31-35\",\"31-35\",\"26-30\",\"36-40\",\"36-40\",\"26-30\",\"31-35\",\"26-30\",\"31-35\",\"31-35\",\"31-35\",\"46-60\",\"31-35\",\"31-35\",\"36-40\",\"31-35\",\"31-35\",\"31-35\",\"26-30\",\"31-35\",\"31-35\",\"26-30\"],\"yaxis\":\"y\",\"type\":\"scatter\"},{\"fillpattern\":{\"shape\":\"\"},\"hovertemplate\":\"Marital_Status?=Yes<br>Where_do_you_live?=International<br>Location=%{x}<br>Age=%{y}<extra></extra>\",\"legendgroup\":\"Yes\",\"line\":{\"color\":\"#636efa\"},\"marker\":{\"symbol\":\"circle\"},\"mode\":\"lines\",\"name\":\"Yes\",\"orientation\":\"v\",\"showlegend\":false,\"stackgroup\":\"1\",\"x\":[\"West\",\"West\",\"West\",\"West\",\"West\",\"East\",\"West\",\"Pakistan\",\"West\",\"West\",\"West\",\"West\",\"West\",\"East\",\"West\",\"East\",\"West\",\"West\",\"East\"],\"xaxis\":\"x\",\"y\":[\"26-30\",\"31-35\",\"31-35\",\"31-35\",\"26-30\",\"26-30\",\"41-45\",\"36-40\",\"31-35\",\"26-30\",\"31-35\",\"31-35\",\"31-35\",\"26-30\",\"31-35\",\"36-40\",\"31-35\",\"31-35\",\"26-30\"],\"yaxis\":\"y\",\"type\":\"scatter\"},{\"fillpattern\":{\"shape\":\"\"},\"hovertemplate\":\"Marital_Status?=No<br>Where_do_you_live?=Urbun<br>Location=%{x}<br>Age=%{y}<extra></extra>\",\"legendgroup\":\"No\",\"line\":{\"color\":\"#EF553B\"},\"marker\":{\"symbol\":\"circle\"},\"mode\":\"lines\",\"name\":\"No\",\"orientation\":\"v\",\"showlegend\":true,\"stackgroup\":\"1\",\"x\":[\"Pakistan\",\"Pakistan\",\"Pakistan\",\"Pakistan\",\"Pakistan\",\"Pakistan\",\"Pakistan\",\"Pakistan\",\"Pakistan\",\"Pakistan\",\"Pakistan\",\"Pakistan\",\"Pakistan\",\"Pakistan\",\"Pakistan\",\"Pakistan\",\"Pakistan\",\"East\",\"Pakistan\",\"Pakistan\",\"Pakistan\",\"Pakistan\",\"Pakistan\",\"Pakistan\",\"Pakistan\",\"Pakistan\",\"Pakistan\",\"Pakistan\",\"Pakistan\",\"Pakistan\",\"Pakistan\",\"Pakistan\",\"Pakistan\",\"Pakistan\",\"Pakistan\",\"Pakistan\",\"Pakistan\",\"Pakistan\",\"Pakistan\",\"Pakistan\",\"Pakistan\",\"Pakistan\",\"Pakistan\",\"Pakistan\",\"Pakistan\",\"Pakistan\",\"Pakistan\",\"Pakistan\",\"Pakistan\",\"Pakistan\",\"Pakistan\",\"Pakistan\",\"Pakistan\",\"Pakistan\",\"Pakistan\",\"Pakistan\",\"Pakistan\",\"Pakistan\",\"Pakistan\",\"Pakistan\",\"Pakistan\",\"Pakistan\",\"Pakistan\",\"Pakistan\",\"Pakistan\",\"Pakistan\",\"Pakistan\",\"Pakistan\",\"Pakistan\",\"Pakistan\",\"Pakistan\",\"Pakistan\",\"Pakistan\",\"Pakistan\",\"Pakistan\",\"Pakistan\",\"Pakistan\",\"Pakistan\",\"Pakistan\",\"Pakistan\",\"Pakistan\",\"Pakistan\",\"Pakistan\",\"Pakistan\",\"Pakistan\",\"Pakistan\",\"Pakistan\",\"Pakistan\",\"Pakistan\",\"Pakistan\",\"Pakistan\",\"Pakistan\",\"Pakistan\",\"Pakistan\",\"Pakistan\",\"Pakistan\",\"Pakistan\",\"Pakistan\",\"Pakistan\",\"Pakistan\",\"Pakistan\",\"Pakistan\",\"Pakistan\",\"Pakistan\",\"Pakistan\",\"Pakistan\",\"Pakistan\",\"Pakistan\",\"Pakistan\",\"Pakistan\",\"Pakistan\",\"Pakistan\",\"Pakistan\",\"Pakistan\",\"Pakistan\",\"Pakistan\",\"Pakistan\",\"Pakistan\",\"Pakistan\",\"Pakistan\",\"Pakistan\",\"Pakistan\",\"Pakistan\",\"Pakistan\",\"Pakistan\",\"Pakistan\",\"Pakistan\",\"Pakistan\",\"East\",\"Pakistan\",\"Pakistan\",\"Pakistan\",\"Pakistan\",\"Pakistan\",\"Pakistan\",\"Pakistan\",\"Pakistan\",\"Pakistan\",\"Pakistan\",\"Pakistan\",\"Pakistan\",\"Pakistan\",\"Pakistan\",\"Pakistan\"],\"xaxis\":\"x\",\"y\":[\"26-30\",\"21-25\",\"26-30\",\"21-25\",\"21-25\",\"31-35\",\"21-25\",\"21-25\",\"21-25\",\"26-30\",\"26-30\",\"21-25\",\"26-30\",\"21-25\",\"26-30\",\"26-30\",\"26-30\",\"26-30\",\"36-40\",\"26-30\",\"26-30\",\"26-30\",\"16-20\",\"31-35\",\"26-30\",\"26-30\",\"21-25\",\"21-25\",\"26-30\",\"26-30\",\"16-20\",\"21-25\",\"16-20\",\"26-30\",\"21-25\",\"31-35\",\"21-25\",\"26-30\",\"21-25\",\"21-25\",\"16-20\",\"26-30\",\"21-25\",\"21-25\",\"21-25\",\"26-30\",\"26-30\",\"26-30\",\"26-30\",\"21-25\",\"26-30\",\"31-35\",\"31-35\",\"26-30\",\"26-30\",\"26-30\",\"21-25\",\"21-25\",\"26-30\",\"21-25\",\"31-35\",\"21-25\",\"21-25\",\"26-30\",\"21-25\",\"26-30\",\"21-25\",\"21-25\",\"26-30\",\"26-30\",\"21-25\",\"21-25\",\"26-30\",\"31-35\",\"21-25\",\"16-20\",\"21-25\",\"31-35\",\"16-20\",\"21-25\",\"21-25\",\"21-25\",\"26-30\",\"31-35\",\"21-25\",\"21-25\",\"16-20\",\"16-20\",\"21-25\",\"21-25\",\"21-25\",\"26-30\",\"21-25\",\"21-25\",\"26-30\",\"26-30\",\"21-25\",\"31-35\",\"26-30\",\"26-30\",\"16-20\",\"21-25\",\"21-25\",\"26-30\",\"21-25\",\"21-25\",\"21-25\",\"26-30\",\"21-25\",\"21-25\",\"26-30\",\"21-25\",\"21-25\",\"21-25\",\"26-30\",\"26-30\",\"31-35\",\"26-30\",\"31-35\",\"31-35\",\"26-30\",\"31-35\",\"26-30\",\"26-30\",\"26-30\",\"26-30\",\"21-25\",\"21-25\",\"16-20\",\"26-30\",\"26-30\",\"31-35\",\"26-30\",\"16-20\",\"26-30\",\"26-30\",\"26-30\",\"21-25\",\"26-30\",\"26-30\",\"21-25\",\"21-25\",\"21-25\",\"26-30\"],\"yaxis\":\"y\",\"type\":\"scatter\"},{\"fillpattern\":{\"shape\":\"\"},\"hovertemplate\":\"Marital_Status?=No<br>Where_do_you_live?=Rural<br>Location=%{x}<br>Age=%{y}<extra></extra>\",\"legendgroup\":\"No\",\"line\":{\"color\":\"#EF553B\"},\"marker\":{\"symbol\":\"circle\"},\"mode\":\"lines\",\"name\":\"No\",\"orientation\":\"v\",\"showlegend\":false,\"stackgroup\":\"1\",\"x\":[\"Pakistan\",\"Pakistan\",\"Pakistan\",\"Pakistan\",\"Pakistan\",\"Pakistan\",\"Pakistan\",\"Pakistan\",\"Pakistan\",\"Pakistan\",\"Pakistan\",\"Pakistan\",\"Pakistan\",\"Pakistan\",\"Pakistan\",\"Pakistan\",\"Pakistan\",\"Pakistan\",\"Pakistan\",\"Pakistan\",\"Pakistan\",\"Pakistan\",\"Pakistan\",\"West\",\"Pakistan\",\"Pakistan\",\"Pakistan\",\"Pakistan\",\"Pakistan\",\"India\",\"Pakistan\",\"Pakistan\",\"Pakistan\",\"Pakistan\",\"Pakistan\",\"Pakistan\",\"Pakistan\",\"Pakistan\",\"Pakistan\",\"Pakistan\",\"Pakistan\",\"Pakistan\",\"Pakistan\",\"Pakistan\",\"Pakistan\",\"Pakistan\",\"Pakistan\",\"Pakistan\",\"Pakistan\",\"Pakistan\",\"Pakistan\",\"Pakistan\",\"Pakistan\",\"Pakistan\",\"Pakistan\",\"Pakistan\",\"Pakistan\",\"Pakistan\",\"Pakistan\",\"Pakistan\",\"Pakistan\",\"Pakistan\",\"Pakistan\",\"Pakistan\",\"Pakistan\",\"Pakistan\",\"India\",\"Pakistan\",\"Pakistan\",\"Pakistan\",\"Pakistan\",\"Pakistan\",\"Pakistan\",\"Pakistan\",\"Pakistan\",\"Pakistan\",\"Pakistan\",\"Pakistan\",\"Pakistan\",\"Pakistan\",\"Pakistan\",\"Pakistan\"],\"xaxis\":\"x\",\"y\":[\"26-30\",\"21-25\",\"21-25\",\"26-30\",\"26-30\",\"21-25\",\"21-25\",\"21-25\",\"21-25\",\"21-25\",\"21-25\",\"16-20\",\"21-25\",\"21-25\",\"21-25\",\"26-30\",\"21-25\",\"21-25\",\"26-30\",\"26-30\",\"26-30\",\"21-25\",\"21-25\",\"16-20\",\"26-30\",\"21-25\",\"26-30\",\"21-25\",\"31-35\",\"21-25\",\"26-30\",\"21-25\",\"26-30\",\"31-35\",\"16-20\",\"26-30\",\"21-25\",\"16-20\",\"21-25\",\"21-25\",\"26-30\",\"26-30\",\"26-30\",\"26-30\",\"26-30\",\"21-25\",\"21-25\",\"26-30\",\"21-25\",\"21-25\",\"26-30\",\"21-25\",\"21-25\",\"21-25\",\"21-25\",\"26-30\",\"21-25\",\"21-25\",\"21-25\",\"21-25\",\"21-25\",\"21-25\",\"31-35\",\"21-25\",\"26-30\",\"26-30\",\"26-30\",\"26-30\",\"21-25\",\"26-30\",\"21-25\",\"21-25\",\"21-25\",\"16-20\",\"26-30\",\"26-30\",\"26-30\",\"26-30\",\"16-20\",\"26-30\",\"21-25\",\"21-25\"],\"yaxis\":\"y\",\"type\":\"scatter\"},{\"fillpattern\":{\"shape\":\"\"},\"hovertemplate\":\"Marital_Status?=No<br>Where_do_you_live?=International<br>Location=%{x}<br>Age=%{y}<extra></extra>\",\"legendgroup\":\"No\",\"line\":{\"color\":\"#EF553B\"},\"marker\":{\"symbol\":\"circle\"},\"mode\":\"lines\",\"name\":\"No\",\"orientation\":\"v\",\"showlegend\":false,\"stackgroup\":\"1\",\"x\":[\"West\",\"East\",\"West\",\"East\",\"East\",\"West\",\"East\",\"East\",\"East\",\"West\",\"West\",\"Pakistan\",\"East\",\"West\",\"West\",\"West\",\"East\",\"West\",\"West\",\"West\",\"West\",\"West\",\"West\",\"West\",\"West\",\"West\",\"West\",\"West\"],\"xaxis\":\"x\",\"y\":[\"21-25\",\"21-25\",\"26-30\",\"21-25\",\"26-30\",\"21-25\",\"26-30\",\"31-35\",\"26-30\",\"26-30\",\"26-30\",\"21-25\",\"26-30\",\"21-25\",\"31-35\",\"26-30\",\"26-30\",\"26-30\",\"26-30\",\"Jan-15\",\"16-20\",\"26-30\",\"Jan-15\",\"21-25\",\"31-35\",\"26-30\",\"21-25\",\"26-30\"],\"yaxis\":\"y\",\"type\":\"scatter\"}],                        {\"template\":{\"data\":{\"histogram2dcontour\":[{\"type\":\"histogram2dcontour\",\"colorbar\":{\"outlinewidth\":0,\"ticks\":\"\"},\"colorscale\":[[0.0,\"#0d0887\"],[0.1111111111111111,\"#46039f\"],[0.2222222222222222,\"#7201a8\"],[0.3333333333333333,\"#9c179e\"],[0.4444444444444444,\"#bd3786\"],[0.5555555555555556,\"#d8576b\"],[0.6666666666666666,\"#ed7953\"],[0.7777777777777778,\"#fb9f3a\"],[0.8888888888888888,\"#fdca26\"],[1.0,\"#f0f921\"]]}],\"choropleth\":[{\"type\":\"choropleth\",\"colorbar\":{\"outlinewidth\":0,\"ticks\":\"\"}}],\"histogram2d\":[{\"type\":\"histogram2d\",\"colorbar\":{\"outlinewidth\":0,\"ticks\":\"\"},\"colorscale\":[[0.0,\"#0d0887\"],[0.1111111111111111,\"#46039f\"],[0.2222222222222222,\"#7201a8\"],[0.3333333333333333,\"#9c179e\"],[0.4444444444444444,\"#bd3786\"],[0.5555555555555556,\"#d8576b\"],[0.6666666666666666,\"#ed7953\"],[0.7777777777777778,\"#fb9f3a\"],[0.8888888888888888,\"#fdca26\"],[1.0,\"#f0f921\"]]}],\"heatmap\":[{\"type\":\"heatmap\",\"colorbar\":{\"outlinewidth\":0,\"ticks\":\"\"},\"colorscale\":[[0.0,\"#0d0887\"],[0.1111111111111111,\"#46039f\"],[0.2222222222222222,\"#7201a8\"],[0.3333333333333333,\"#9c179e\"],[0.4444444444444444,\"#bd3786\"],[0.5555555555555556,\"#d8576b\"],[0.6666666666666666,\"#ed7953\"],[0.7777777777777778,\"#fb9f3a\"],[0.8888888888888888,\"#fdca26\"],[1.0,\"#f0f921\"]]}],\"heatmapgl\":[{\"type\":\"heatmapgl\",\"colorbar\":{\"outlinewidth\":0,\"ticks\":\"\"},\"colorscale\":[[0.0,\"#0d0887\"],[0.1111111111111111,\"#46039f\"],[0.2222222222222222,\"#7201a8\"],[0.3333333333333333,\"#9c179e\"],[0.4444444444444444,\"#bd3786\"],[0.5555555555555556,\"#d8576b\"],[0.6666666666666666,\"#ed7953\"],[0.7777777777777778,\"#fb9f3a\"],[0.8888888888888888,\"#fdca26\"],[1.0,\"#f0f921\"]]}],\"contourcarpet\":[{\"type\":\"contourcarpet\",\"colorbar\":{\"outlinewidth\":0,\"ticks\":\"\"}}],\"contour\":[{\"type\":\"contour\",\"colorbar\":{\"outlinewidth\":0,\"ticks\":\"\"},\"colorscale\":[[0.0,\"#0d0887\"],[0.1111111111111111,\"#46039f\"],[0.2222222222222222,\"#7201a8\"],[0.3333333333333333,\"#9c179e\"],[0.4444444444444444,\"#bd3786\"],[0.5555555555555556,\"#d8576b\"],[0.6666666666666666,\"#ed7953\"],[0.7777777777777778,\"#fb9f3a\"],[0.8888888888888888,\"#fdca26\"],[1.0,\"#f0f921\"]]}],\"surface\":[{\"type\":\"surface\",\"colorbar\":{\"outlinewidth\":0,\"ticks\":\"\"},\"colorscale\":[[0.0,\"#0d0887\"],[0.1111111111111111,\"#46039f\"],[0.2222222222222222,\"#7201a8\"],[0.3333333333333333,\"#9c179e\"],[0.4444444444444444,\"#bd3786\"],[0.5555555555555556,\"#d8576b\"],[0.6666666666666666,\"#ed7953\"],[0.7777777777777778,\"#fb9f3a\"],[0.8888888888888888,\"#fdca26\"],[1.0,\"#f0f921\"]]}],\"mesh3d\":[{\"type\":\"mesh3d\",\"colorbar\":{\"outlinewidth\":0,\"ticks\":\"\"}}],\"scatter\":[{\"fillpattern\":{\"fillmode\":\"overlay\",\"size\":10,\"solidity\":0.2},\"type\":\"scatter\"}],\"parcoords\":[{\"type\":\"parcoords\",\"line\":{\"colorbar\":{\"outlinewidth\":0,\"ticks\":\"\"}}}],\"scatterpolargl\":[{\"type\":\"scatterpolargl\",\"marker\":{\"colorbar\":{\"outlinewidth\":0,\"ticks\":\"\"}}}],\"bar\":[{\"error_x\":{\"color\":\"#2a3f5f\"},\"error_y\":{\"color\":\"#2a3f5f\"},\"marker\":{\"line\":{\"color\":\"#E5ECF6\",\"width\":0.5},\"pattern\":{\"fillmode\":\"overlay\",\"size\":10,\"solidity\":0.2}},\"type\":\"bar\"}],\"scattergeo\":[{\"type\":\"scattergeo\",\"marker\":{\"colorbar\":{\"outlinewidth\":0,\"ticks\":\"\"}}}],\"scatterpolar\":[{\"type\":\"scatterpolar\",\"marker\":{\"colorbar\":{\"outlinewidth\":0,\"ticks\":\"\"}}}],\"histogram\":[{\"marker\":{\"pattern\":{\"fillmode\":\"overlay\",\"size\":10,\"solidity\":0.2}},\"type\":\"histogram\"}],\"scattergl\":[{\"type\":\"scattergl\",\"marker\":{\"colorbar\":{\"outlinewidth\":0,\"ticks\":\"\"}}}],\"scatter3d\":[{\"type\":\"scatter3d\",\"line\":{\"colorbar\":{\"outlinewidth\":0,\"ticks\":\"\"}},\"marker\":{\"colorbar\":{\"outlinewidth\":0,\"ticks\":\"\"}}}],\"scattermapbox\":[{\"type\":\"scattermapbox\",\"marker\":{\"colorbar\":{\"outlinewidth\":0,\"ticks\":\"\"}}}],\"scatterternary\":[{\"type\":\"scatterternary\",\"marker\":{\"colorbar\":{\"outlinewidth\":0,\"ticks\":\"\"}}}],\"scattercarpet\":[{\"type\":\"scattercarpet\",\"marker\":{\"colorbar\":{\"outlinewidth\":0,\"ticks\":\"\"}}}],\"carpet\":[{\"aaxis\":{\"endlinecolor\":\"#2a3f5f\",\"gridcolor\":\"white\",\"linecolor\":\"white\",\"minorgridcolor\":\"white\",\"startlinecolor\":\"#2a3f5f\"},\"baxis\":{\"endlinecolor\":\"#2a3f5f\",\"gridcolor\":\"white\",\"linecolor\":\"white\",\"minorgridcolor\":\"white\",\"startlinecolor\":\"#2a3f5f\"},\"type\":\"carpet\"}],\"table\":[{\"cells\":{\"fill\":{\"color\":\"#EBF0F8\"},\"line\":{\"color\":\"white\"}},\"header\":{\"fill\":{\"color\":\"#C8D4E3\"},\"line\":{\"color\":\"white\"}},\"type\":\"table\"}],\"barpolar\":[{\"marker\":{\"line\":{\"color\":\"#E5ECF6\",\"width\":0.5},\"pattern\":{\"fillmode\":\"overlay\",\"size\":10,\"solidity\":0.2}},\"type\":\"barpolar\"}],\"pie\":[{\"automargin\":true,\"type\":\"pie\"}]},\"layout\":{\"autotypenumbers\":\"strict\",\"colorway\":[\"#636efa\",\"#EF553B\",\"#00cc96\",\"#ab63fa\",\"#FFA15A\",\"#19d3f3\",\"#FF6692\",\"#B6E880\",\"#FF97FF\",\"#FECB52\"],\"font\":{\"color\":\"#2a3f5f\"},\"hovermode\":\"closest\",\"hoverlabel\":{\"align\":\"left\"},\"paper_bgcolor\":\"white\",\"plot_bgcolor\":\"#E5ECF6\",\"polar\":{\"bgcolor\":\"#E5ECF6\",\"angularaxis\":{\"gridcolor\":\"white\",\"linecolor\":\"white\",\"ticks\":\"\"},\"radialaxis\":{\"gridcolor\":\"white\",\"linecolor\":\"white\",\"ticks\":\"\"}},\"ternary\":{\"bgcolor\":\"#E5ECF6\",\"aaxis\":{\"gridcolor\":\"white\",\"linecolor\":\"white\",\"ticks\":\"\"},\"baxis\":{\"gridcolor\":\"white\",\"linecolor\":\"white\",\"ticks\":\"\"},\"caxis\":{\"gridcolor\":\"white\",\"linecolor\":\"white\",\"ticks\":\"\"}},\"coloraxis\":{\"colorbar\":{\"outlinewidth\":0,\"ticks\":\"\"}},\"colorscale\":{\"sequential\":[[0.0,\"#0d0887\"],[0.1111111111111111,\"#46039f\"],[0.2222222222222222,\"#7201a8\"],[0.3333333333333333,\"#9c179e\"],[0.4444444444444444,\"#bd3786\"],[0.5555555555555556,\"#d8576b\"],[0.6666666666666666,\"#ed7953\"],[0.7777777777777778,\"#fb9f3a\"],[0.8888888888888888,\"#fdca26\"],[1.0,\"#f0f921\"]],\"sequentialminus\":[[0.0,\"#0d0887\"],[0.1111111111111111,\"#46039f\"],[0.2222222222222222,\"#7201a8\"],[0.3333333333333333,\"#9c179e\"],[0.4444444444444444,\"#bd3786\"],[0.5555555555555556,\"#d8576b\"],[0.6666666666666666,\"#ed7953\"],[0.7777777777777778,\"#fb9f3a\"],[0.8888888888888888,\"#fdca26\"],[1.0,\"#f0f921\"]],\"diverging\":[[0,\"#8e0152\"],[0.1,\"#c51b7d\"],[0.2,\"#de77ae\"],[0.3,\"#f1b6da\"],[0.4,\"#fde0ef\"],[0.5,\"#f7f7f7\"],[0.6,\"#e6f5d0\"],[0.7,\"#b8e186\"],[0.8,\"#7fbc41\"],[0.9,\"#4d9221\"],[1,\"#276419\"]]},\"xaxis\":{\"gridcolor\":\"white\",\"linecolor\":\"white\",\"ticks\":\"\",\"title\":{\"standoff\":15},\"zerolinecolor\":\"white\",\"automargin\":true,\"zerolinewidth\":2},\"yaxis\":{\"gridcolor\":\"white\",\"linecolor\":\"white\",\"ticks\":\"\",\"title\":{\"standoff\":15},\"zerolinecolor\":\"white\",\"automargin\":true,\"zerolinewidth\":2},\"scene\":{\"xaxis\":{\"backgroundcolor\":\"#E5ECF6\",\"gridcolor\":\"white\",\"linecolor\":\"white\",\"showbackground\":true,\"ticks\":\"\",\"zerolinecolor\":\"white\",\"gridwidth\":2},\"yaxis\":{\"backgroundcolor\":\"#E5ECF6\",\"gridcolor\":\"white\",\"linecolor\":\"white\",\"showbackground\":true,\"ticks\":\"\",\"zerolinecolor\":\"white\",\"gridwidth\":2},\"zaxis\":{\"backgroundcolor\":\"#E5ECF6\",\"gridcolor\":\"white\",\"linecolor\":\"white\",\"showbackground\":true,\"ticks\":\"\",\"zerolinecolor\":\"white\",\"gridwidth\":2}},\"shapedefaults\":{\"line\":{\"color\":\"#2a3f5f\"}},\"annotationdefaults\":{\"arrowcolor\":\"#2a3f5f\",\"arrowhead\":0,\"arrowwidth\":1},\"geo\":{\"bgcolor\":\"white\",\"landcolor\":\"#E5ECF6\",\"subunitcolor\":\"white\",\"showland\":true,\"showlakes\":true,\"lakecolor\":\"white\"},\"title\":{\"x\":0.05},\"mapbox\":{\"style\":\"light\"}}},\"xaxis\":{\"anchor\":\"y\",\"domain\":[0.0,1.0],\"title\":{\"text\":\"Location\"}},\"yaxis\":{\"anchor\":\"x\",\"domain\":[0.0,1.0],\"title\":{\"text\":\"Age\"}},\"legend\":{\"title\":{\"text\":\"Marital_Status?\"},\"tracegroupgap\":0},\"margin\":{\"t\":60}},                        {\"responsive\": true}                    ).then(function(){\n",
       "                            \n",
       "var gd = document.getElementById('ac6f942d-b779-42de-b762-6463a889dd94');\n",
       "var x = new MutationObserver(function (mutations, observer) {{\n",
       "        var display = window.getComputedStyle(gd).display;\n",
       "        if (!display || display === 'none') {{\n",
       "            console.log([gd, 'removed!']);\n",
       "            Plotly.purge(gd);\n",
       "            observer.disconnect();\n",
       "        }}\n",
       "}});\n",
       "\n",
       "// Listen for the removal of the full notebook cells\n",
       "var notebookContainer = gd.closest('#notebook-container');\n",
       "if (notebookContainer) {{\n",
       "    x.observe(notebookContainer, {childList: true});\n",
       "}}\n",
       "\n",
       "// Listen for the clearing of the current output cell\n",
       "var outputEl = gd.closest('.output');\n",
       "if (outputEl) {{\n",
       "    x.observe(outputEl, {childList: true});\n",
       "}}\n",
       "\n",
       "                        })                };                });            </script>        </div>"
      ]
     },
     "metadata": {},
     "output_type": "display_data"
    }
   ],
   "source": [
    "fig = px.area(df, x=\"Location\", y=\"Age\", color=\"Marital_Status?\", line_group=\"Where_do_you_live?\")\n",
    "fig.show()"
   ]
  },
  {
   "cell_type": "code",
   "execution_count": 42,
   "id": "c40ea340",
   "metadata": {},
   "outputs": [],
   "source": [
    "import pandas as pd\n",
    "col_names=[\"Gender\", \"Location\",\"Age\",\"Qualification_completed\", \"field_of_study\", \"Purpose_for_chilla\",\n",
    "          \"What_are_you?\", \"Blood_group \", \"Mobile_sim\", \"Prepaid_or_Postpaid\", \"Which_PC_are_you_using?\", \n",
    "          \"Do_you_wear_glasses?\", \"first_line_of_code?\", \"Your_favorite_programming_language?\",\"Marital_Status?\",\n",
    "           \"Are_you_Vaccinated?\",\"Where_do_you_live?\", \"Research/Working_experience(Float/Int)years\", \"Age(years)-Float/Int\",\n",
    "           \"Your_Weight_in_kg?(float)\", \"Height_in_cm?Freelancer\", \"How_many_hours_you_code_a_day?\",\"Light_kitni_der_band_hti_hy?int\"\n",
    "        ]\n"
   ]
  }
 ],
 "metadata": {
  "kernelspec": {
   "display_name": "Python 3 (ipykernel)",
   "language": "python",
   "name": "python3"
  },
  "language_info": {
   "codemirror_mode": {
    "name": "ipython",
    "version": 3
   },
   "file_extension": ".py",
   "mimetype": "text/x-python",
   "name": "python",
   "nbconvert_exporter": "python",
   "pygments_lexer": "ipython3",
   "version": "3.9.7"
  }
 },
 "nbformat": 4,
 "nbformat_minor": 5
}
