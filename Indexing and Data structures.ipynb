{
 "cells": [
  {
   "cell_type": "markdown",
   "id": "abdc4cf3",
   "metadata": {},
   "source": [
    "# -Indexing"
   ]
  },
  {
   "cell_type": "code",
   "execution_count": 5,
   "id": "3d84f87a",
   "metadata": {},
   "outputs": [
    {
     "data": {
      "text/plain": [
       "'Dania Batool'"
      ]
     },
     "execution_count": 5,
     "metadata": {},
     "output_type": "execute_result"
    }
   ],
   "source": [
    "#Make a string\n",
    "a=\"Dania Batool\"\n",
    "a\n"
   ]
  },
  {
   "cell_type": "code",
   "execution_count": 7,
   "id": "d9a36f3b",
   "metadata": {},
   "outputs": [
    {
     "data": {
      "text/plain": [
       "'D'"
      ]
     },
     "execution_count": 7,
     "metadata": {},
     "output_type": "execute_result"
    }
   ],
   "source": [
    "a[5]\n",
    "a[0]"
   ]
  },
  {
   "cell_type": "code",
   "execution_count": 8,
   "id": "4a8237f8",
   "metadata": {},
   "outputs": [
    {
     "data": {
      "text/plain": [
       "12"
      ]
     },
     "execution_count": 8,
     "metadata": {},
     "output_type": "execute_result"
    }
   ],
   "source": [
    "#length of indices\n",
    "len(a)"
   ]
  },
  {
   "cell_type": "code",
   "execution_count": 9,
   "id": "2a23790b",
   "metadata": {},
   "outputs": [
    {
     "data": {
      "text/plain": [
       "'Dania B'"
      ]
     },
     "execution_count": 9,
     "metadata": {},
     "output_type": "execute_result"
    }
   ],
   "source": [
    "a[0:7]"
   ]
  },
  {
   "cell_type": "code",
   "execution_count": 10,
   "id": "a235be34",
   "metadata": {},
   "outputs": [
    {
     "data": {
      "text/plain": [
       "'Dania Batool'"
      ]
     },
     "execution_count": 10,
     "metadata": {},
     "output_type": "execute_result"
    }
   ],
   "source": [
    "#last index is exclusive\n",
    "a[0:12]"
   ]
  },
  {
   "cell_type": "code",
   "execution_count": 13,
   "id": "457914c4",
   "metadata": {},
   "outputs": [
    {
     "data": {
      "text/plain": [
       "'a'"
      ]
     },
     "execution_count": 13,
     "metadata": {},
     "output_type": "execute_result"
    }
   ],
   "source": [
    "#Printing string from last index\n",
    "a[-1]\n",
    "a[-5]"
   ]
  },
  {
   "cell_type": "code",
   "execution_count": 14,
   "id": "1ec97d4a",
   "metadata": {},
   "outputs": [
    {
     "data": {
      "text/plain": [
       "'atoo'"
      ]
     },
     "execution_count": 14,
     "metadata": {},
     "output_type": "execute_result"
    }
   ],
   "source": [
    "a[-5:-1]"
   ]
  },
  {
   "cell_type": "markdown",
   "id": "cd673031",
   "metadata": {},
   "source": [
    "# string methods"
   ]
  },
  {
   "cell_type": "code",
   "execution_count": 1,
   "id": "2fb4e1c5",
   "metadata": {},
   "outputs": [
    {
     "data": {
      "text/plain": [
       "'bryani'"
      ]
     },
     "execution_count": 1,
     "metadata": {},
     "output_type": "execute_result"
    }
   ],
   "source": [
    "food='bryani'\n",
    "food\n"
   ]
  },
  {
   "cell_type": "code",
   "execution_count": 2,
   "id": "69aa168f",
   "metadata": {},
   "outputs": [
    {
     "data": {
      "text/plain": [
       "'Bryani'"
      ]
     },
     "execution_count": 2,
     "metadata": {},
     "output_type": "execute_result"
    }
   ],
   "source": [
    "#capitalize\n",
    "food.capitalize()\n"
   ]
  },
  {
   "cell_type": "code",
   "execution_count": 3,
   "id": "f6baa0c2",
   "metadata": {},
   "outputs": [
    {
     "data": {
      "text/plain": [
       "'BRYANI'"
      ]
     },
     "execution_count": 3,
     "metadata": {},
     "output_type": "execute_result"
    }
   ],
   "source": [
    "food.upper()\n"
   ]
  },
  {
   "cell_type": "code",
   "execution_count": 4,
   "id": "864c99b8",
   "metadata": {},
   "outputs": [
    {
     "data": {
      "text/plain": [
       "'bryani'"
      ]
     },
     "execution_count": 4,
     "metadata": {},
     "output_type": "execute_result"
    }
   ],
   "source": [
    "food.lower()"
   ]
  },
  {
   "cell_type": "code",
   "execution_count": 21,
   "id": "ae32a7a4",
   "metadata": {},
   "outputs": [
    {
     "data": {
      "text/plain": [
       "'shryani'"
      ]
     },
     "execution_count": 21,
     "metadata": {},
     "output_type": "execute_result"
    }
   ],
   "source": [
    "#replace\n",
    "food.replace('b', 'sh')"
   ]
  },
  {
   "cell_type": "code",
   "execution_count": 24,
   "id": "b3bc8df6",
   "metadata": {},
   "outputs": [
    {
     "data": {
      "text/plain": [
       "1"
      ]
     },
     "execution_count": 24,
     "metadata": {},
     "output_type": "execute_result"
    }
   ],
   "source": [
    "#counitng of a specific alphabet in string\n",
    "food.count(\"a\")"
   ]
  },
  {
   "cell_type": "markdown",
   "id": "350326e0",
   "metadata": {},
   "source": [
    "### finding an index number in a string\n"
   ]
  },
  {
   "cell_type": "code",
   "execution_count": 5,
   "id": "22fb8cb0",
   "metadata": {},
   "outputs": [
    {
     "data": {
      "text/plain": [
       "9"
      ]
     },
     "execution_count": 5,
     "metadata": {},
     "output_type": "execute_result"
    }
   ],
   "source": [
    "name='Dania Batool Alvi'\n",
    "name.find('oo')"
   ]
  },
  {
   "cell_type": "code",
   "execution_count": 10,
   "id": "9e9cf346",
   "metadata": {
    "scrolled": true
   },
   "outputs": [
    {
     "data": {
      "text/plain": [
       "['I love Pasta', ' Macroni', ' Chinese', ' Stake']"
      ]
     },
     "execution_count": 10,
     "metadata": {},
     "output_type": "execute_result"
    }
   ],
   "source": [
    "###-How to split a string\n",
    "food='I love Pasta, Macroni, Chinese, Stake'\n",
    "food.split(',')"
   ]
  },
  {
   "cell_type": "markdown",
   "id": "8f691703",
   "metadata": {},
   "source": [
    "# Basic Data Structures in Python\n",
    "\n",
    "1-Tuple\n",
    "\n",
    "2-List\n",
    "\n",
    "3-Dictionaries\n",
    "\n",
    "4-Set\n"
   ]
  },
  {
   "cell_type": "markdown",
   "id": "6aa32cfe",
   "metadata": {},
   "source": [
    "## 1-Tuples\n",
    "-ordered collection of elements\n",
    "\n",
    "-enclosed in round () bracket /Parenthesis\n",
    "\n",
    "-Different kind of elements can be stored\n",
    "\n",
    "-Once lements are stored you cannot change them (unmutable)\n"
   ]
  },
  {
   "cell_type": "code",
   "execution_count": 31,
   "id": "cd27c2f0",
   "metadata": {},
   "outputs": [
    {
     "data": {
      "text/plain": [
       "('Dania', 1, True, 3.5)"
      ]
     },
     "execution_count": 31,
     "metadata": {},
     "output_type": "execute_result"
    }
   ],
   "source": [
    "tup1=('Dania', 1, True, 3.5)\n",
    "tup1"
   ]
  },
  {
   "cell_type": "code",
   "execution_count": 32,
   "id": "ab2f9e11",
   "metadata": {},
   "outputs": [
    {
     "data": {
      "text/plain": [
       "tuple"
      ]
     },
     "execution_count": 32,
     "metadata": {},
     "output_type": "execute_result"
    }
   ],
   "source": [
    "#type of tuple\n",
    "type(tup1)"
   ]
  },
  {
   "cell_type": "markdown",
   "id": "c8544959",
   "metadata": {},
   "source": [
    "### Indexing in tuple"
   ]
  },
  {
   "cell_type": "code",
   "execution_count": 34,
   "id": "54a9b561",
   "metadata": {},
   "outputs": [
    {
     "data": {
      "text/plain": [
       "'Dania'"
      ]
     },
     "execution_count": 34,
     "metadata": {},
     "output_type": "execute_result"
    }
   ],
   "source": [
    "tup1[0]"
   ]
  },
  {
   "cell_type": "code",
   "execution_count": 35,
   "id": "24b50aac",
   "metadata": {},
   "outputs": [
    {
     "data": {
      "text/plain": [
       "True"
      ]
     },
     "execution_count": 35,
     "metadata": {},
     "output_type": "execute_result"
    }
   ],
   "source": [
    "tup1[2]"
   ]
  },
  {
   "cell_type": "code",
   "execution_count": 38,
   "id": "5ec11b7c",
   "metadata": {},
   "outputs": [
    {
     "data": {
      "text/plain": [
       "('Dania', 1, True, 3.5)"
      ]
     },
     "execution_count": 38,
     "metadata": {},
     "output_type": "execute_result"
    }
   ],
   "source": [
    "tup1[0:5]"
   ]
  },
  {
   "cell_type": "code",
   "execution_count": 39,
   "id": "613f05da",
   "metadata": {},
   "outputs": [
    {
     "data": {
      "text/plain": [
       "4"
      ]
     },
     "execution_count": 39,
     "metadata": {},
     "output_type": "execute_result"
    }
   ],
   "source": [
    "#count of elements in tuple\n",
    "len(tup1)"
   ]
  },
  {
   "cell_type": "code",
   "execution_count": 41,
   "id": "c0a662e7",
   "metadata": {},
   "outputs": [
    {
     "data": {
      "text/plain": [
       "('2', 'Python', 2.3, False)"
      ]
     },
     "execution_count": 41,
     "metadata": {},
     "output_type": "execute_result"
    }
   ],
   "source": [
    "tup2=('2','Python',2.3,False)\n",
    "tup2"
   ]
  },
  {
   "cell_type": "code",
   "execution_count": 42,
   "id": "52aefa49",
   "metadata": {},
   "outputs": [
    {
     "data": {
      "text/plain": [
       "('Dania', 1, True, 3.5, '2', 'Python', 2.3, False)"
      ]
     },
     "execution_count": 42,
     "metadata": {},
     "output_type": "execute_result"
    }
   ],
   "source": [
    "#concatenate\n",
    "tup1+tup2"
   ]
  },
  {
   "cell_type": "code",
   "execution_count": 43,
   "id": "1636e18e",
   "metadata": {},
   "outputs": [
    {
     "data": {
      "text/plain": [
       "('Dania', 1, True, 3.5, 'Dania', 1, True, 3.5, '2', 'Python', 2.3, False)"
      ]
     },
     "execution_count": 43,
     "metadata": {},
     "output_type": "execute_result"
    }
   ],
   "source": [
    "#repeat\n",
    "tup1*2+tup2"
   ]
  },
  {
   "cell_type": "code",
   "execution_count": 46,
   "id": "97540d9d",
   "metadata": {},
   "outputs": [
    {
     "data": {
      "text/plain": [
       "5"
      ]
     },
     "execution_count": 46,
     "metadata": {},
     "output_type": "execute_result"
    }
   ],
   "source": [
    "#minimum or max in tuple\n",
    "tup4=(45,6,33,5,22)\n",
    "min(tup4)"
   ]
  },
  {
   "cell_type": "code",
   "execution_count": 47,
   "id": "ccaa9cc1",
   "metadata": {},
   "outputs": [
    {
     "data": {
      "text/plain": [
       "45"
      ]
     },
     "execution_count": 47,
     "metadata": {},
     "output_type": "execute_result"
    }
   ],
   "source": [
    "max(tup4)"
   ]
  },
  {
   "cell_type": "code",
   "execution_count": 48,
   "id": "46199a8c",
   "metadata": {},
   "outputs": [
    {
     "data": {
      "text/plain": [
       "(45, 6, 33, 5, 22, 45, 6, 33, 5, 22, 45, 6, 33, 5, 22)"
      ]
     },
     "execution_count": 48,
     "metadata": {},
     "output_type": "execute_result"
    }
   ],
   "source": [
    "tup4*3"
   ]
  },
  {
   "cell_type": "markdown",
   "id": "f2a3f9b7",
   "metadata": {},
   "source": [
    "---"
   ]
  },
  {
   "cell_type": "markdown",
   "id": "1e739730",
   "metadata": {},
   "source": [
    "## 2-Lists\n",
    "-ordered collection of elements\n",
    "\n",
    "-enclosed in square [] brackets\n",
    "\n",
    "-mutatable, you can change the values\n"
   ]
  },
  {
   "cell_type": "code",
   "execution_count": 51,
   "id": "3bd95e75",
   "metadata": {},
   "outputs": [
    {
     "data": {
      "text/plain": [
       "['2', 'Python', 2.3, False]"
      ]
     },
     "execution_count": 51,
     "metadata": {},
     "output_type": "execute_result"
    }
   ],
   "source": [
    "list1=['2','Python',2.3,False]\n",
    "list1"
   ]
  },
  {
   "cell_type": "code",
   "execution_count": 52,
   "id": "dc447641",
   "metadata": {},
   "outputs": [
    {
     "data": {
      "text/plain": [
       "4"
      ]
     },
     "execution_count": 52,
     "metadata": {},
     "output_type": "execute_result"
    }
   ],
   "source": [
    "len(list1)"
   ]
  },
  {
   "cell_type": "code",
   "execution_count": 53,
   "id": "822cc0fd",
   "metadata": {},
   "outputs": [
    {
     "data": {
      "text/plain": [
       "list"
      ]
     },
     "execution_count": 53,
     "metadata": {},
     "output_type": "execute_result"
    }
   ],
   "source": [
    "type(list1)"
   ]
  },
  {
   "cell_type": "code",
   "execution_count": 54,
   "id": "08bd126c",
   "metadata": {},
   "outputs": [
    {
     "data": {
      "text/plain": [
       "False"
      ]
     },
     "execution_count": 54,
     "metadata": {},
     "output_type": "execute_result"
    }
   ],
   "source": [
    "list1[3]"
   ]
  },
  {
   "cell_type": "code",
   "execution_count": 55,
   "id": "e44323e9",
   "metadata": {},
   "outputs": [
    {
     "data": {
      "text/plain": [
       "['Python', 2.3]"
      ]
     },
     "execution_count": 55,
     "metadata": {},
     "output_type": "execute_result"
    }
   ],
   "source": [
    "list1[1:3]"
   ]
  },
  {
   "cell_type": "code",
   "execution_count": 57,
   "id": "1b25ad5d",
   "metadata": {},
   "outputs": [
    {
     "data": {
      "text/plain": [
       "[2, 3, 'Dania', 'alvi', 456, False]"
      ]
     },
     "execution_count": 57,
     "metadata": {},
     "output_type": "execute_result"
    }
   ],
   "source": [
    "list2=[2,3,'Dania','alvi',456,False]\n",
    "list2"
   ]
  },
  {
   "cell_type": "code",
   "execution_count": 72,
   "id": "1bcd750b",
   "metadata": {},
   "outputs": [
    {
     "data": {
      "text/plain": [
       "['2', 'Python', 2.3, False, 2, 3, 'Dania', 'alvi', 456, False]"
      ]
     },
     "execution_count": 72,
     "metadata": {},
     "output_type": "execute_result"
    }
   ],
   "source": [
    "list3=list1+list2\n",
    "list3"
   ]
  },
  {
   "cell_type": "code",
   "execution_count": 73,
   "id": "0ad3d872",
   "metadata": {},
   "outputs": [
    {
     "data": {
      "text/plain": [
       "[False, 456, 'alvi', 'Dania', 3, 2, False, 2.3, 'Python', '2']"
      ]
     },
     "execution_count": 73,
     "metadata": {},
     "output_type": "execute_result"
    }
   ],
   "source": [
    "list3.reverse()\n",
    "list3"
   ]
  },
  {
   "cell_type": "code",
   "execution_count": 74,
   "id": "d4f23103",
   "metadata": {},
   "outputs": [
    {
     "data": {
      "text/plain": [
       "[False, 456, 'alvi', 'Dania', 3, 2, False, 2.3, 'Python', '2', 'Codanics']"
      ]
     },
     "execution_count": 74,
     "metadata": {},
     "output_type": "execute_result"
    }
   ],
   "source": [
    "list3.append('Codanics')\n",
    "list3"
   ]
  },
  {
   "cell_type": "code",
   "execution_count": 76,
   "id": "0328438b",
   "metadata": {},
   "outputs": [
    {
     "data": {
      "text/plain": [
       "1"
      ]
     },
     "execution_count": 76,
     "metadata": {},
     "output_type": "execute_result"
    }
   ],
   "source": [
    "count=list3.count(2)\n",
    "count"
   ]
  },
  {
   "cell_type": "code",
   "execution_count": 77,
   "id": "df3336d9",
   "metadata": {},
   "outputs": [
    {
     "data": {
      "text/plain": [
       "[False, 456, 'alvi', 'Dania', 3, 2, False, 2.3, 'Python', '2', 'Codanics']"
      ]
     },
     "execution_count": 77,
     "metadata": {},
     "output_type": "execute_result"
    }
   ],
   "source": [
    "list5=list3.copy()\n",
    "list5"
   ]
  },
  {
   "cell_type": "code",
   "execution_count": 82,
   "id": "0e7df4d9",
   "metadata": {},
   "outputs": [
    {
     "data": {
      "text/plain": [
       "20"
      ]
     },
     "execution_count": 82,
     "metadata": {},
     "output_type": "execute_result"
    }
   ],
   "source": [
    "list6=['Sadia']\n",
    "list3.extend(list6)\n",
    "list3\n",
    "len(list3)"
   ]
  },
  {
   "cell_type": "code",
   "execution_count": 83,
   "id": "2c8ffe15",
   "metadata": {},
   "outputs": [],
   "source": [
    "list7=[3,4,55,76,3,3,23,43,22,78,987,212,31]"
   ]
  },
  {
   "cell_type": "code",
   "execution_count": 85,
   "id": "621a312c",
   "metadata": {},
   "outputs": [
    {
     "data": {
      "text/plain": [
       "[3, 3, 3, 4, 22, 23, 31, 43, 55, 76, 78, 212, 987]"
      ]
     },
     "execution_count": 85,
     "metadata": {},
     "output_type": "execute_result"
    }
   ],
   "source": [
    "#sorting a list\n",
    "list7.sort()\n",
    "list7"
   ]
  },
  {
   "cell_type": "markdown",
   "id": "f6091dea",
   "metadata": {},
   "source": [
    "## 3-Distionaries\n",
    "-an unordered collection of elements\n",
    "\n",
    "-Key and Value\n",
    "\n",
    "-curly bracket {}\n",
    "\n",
    "-Mutateable/ change the value"
   ]
  },
  {
   "cell_type": "code",
   "execution_count": 89,
   "id": "593ac188",
   "metadata": {},
   "outputs": [
    {
     "data": {
      "text/plain": [
       "{'Smosa': 30, 'Pkora': 100, 'Raita': 50, 'Salad': 50, 'Chicken Rolls': 40}"
      ]
     },
     "execution_count": 89,
     "metadata": {},
     "output_type": "execute_result"
    }
   ],
   "source": [
    "#Food and their Prices\n",
    "food1={\"Smosa\":30, \"Pkora\":100, \"Raita\":50,\"Salad\":50,\"Chicken Rolls\":40}\n",
    "food1"
   ]
  },
  {
   "cell_type": "code",
   "execution_count": 90,
   "id": "7367989a",
   "metadata": {},
   "outputs": [
    {
     "data": {
      "text/plain": [
       "dict"
      ]
     },
     "execution_count": 90,
     "metadata": {},
     "output_type": "execute_result"
    }
   ],
   "source": [
    "type(food1)"
   ]
  },
  {
   "cell_type": "code",
   "execution_count": 91,
   "id": "7687d9ca",
   "metadata": {},
   "outputs": [
    {
     "data": {
      "text/plain": [
       "dict_keys(['Smosa', 'Pkora', 'Raita', 'Salad', 'Chicken Rolls'])"
      ]
     },
     "execution_count": 91,
     "metadata": {},
     "output_type": "execute_result"
    }
   ],
   "source": [
    "#Extracting Data\n",
    "key1=food1.keys()\n",
    "key1"
   ]
  },
  {
   "cell_type": "code",
   "execution_count": 93,
   "id": "beacedc0",
   "metadata": {},
   "outputs": [
    {
     "data": {
      "text/plain": [
       "dict_values([30, 100, 50, 50, 40])"
      ]
     },
     "execution_count": 93,
     "metadata": {},
     "output_type": "execute_result"
    }
   ],
   "source": [
    "value1=food1.values()\n",
    "value1"
   ]
  },
  {
   "cell_type": "code",
   "execution_count": 95,
   "id": "36c498d5",
   "metadata": {},
   "outputs": [
    {
     "data": {
      "text/plain": [
       "{'Smosa': 30,\n",
       " 'Pkora': 100,\n",
       " 'Raita': 50,\n",
       " 'Salad': 50,\n",
       " 'Chicken Rolls': 40,\n",
       " 'Tikki': 10}"
      ]
     },
     "execution_count": 95,
     "metadata": {},
     "output_type": "execute_result"
    }
   ],
   "source": [
    "#Adding a new element\n",
    "food1[\"Tikki\"]=10\n",
    "food1"
   ]
  },
  {
   "cell_type": "code",
   "execution_count": 100,
   "id": "124f871c",
   "metadata": {},
   "outputs": [
    {
     "data": {
      "text/plain": [
       "{'Smosa': 30,\n",
       " 'Pkora': 100,\n",
       " 'Raita': 50,\n",
       " 'Salad': 50,\n",
       " 'Chicken Rolls': 40,\n",
       " 'Tikki': 15}"
      ]
     },
     "execution_count": 100,
     "metadata": {},
     "output_type": "execute_result"
    }
   ],
   "source": [
    "#updating a value\n",
    "food1[\"Tikki\"]=15\n",
    "food1"
   ]
  },
  {
   "cell_type": "code",
   "execution_count": 104,
   "id": "5bfa1158",
   "metadata": {},
   "outputs": [
    {
     "data": {
      "text/plain": [
       "{'Smosa': 30,\n",
       " 'Pkora': 100,\n",
       " 'Raita': 50,\n",
       " 'Salad': 50,\n",
       " 'Chicken Rolls': 40,\n",
       " 'Tikki': 15,\n",
       " 'Rolls': 40}"
      ]
     },
     "execution_count": 104,
     "metadata": {},
     "output_type": "execute_result"
    }
   ],
   "source": [
    "#adding a key value pair\n",
    "food1.update({\"Rolls\":40})\n",
    "food1"
   ]
  },
  {
   "cell_type": "code",
   "execution_count": null,
   "id": "10a2d40a",
   "metadata": {},
   "outputs": [],
   "source": []
  },
  {
   "cell_type": "code",
   "execution_count": 106,
   "id": "edb6e5e0",
   "metadata": {},
   "outputs": [
    {
     "data": {
      "text/plain": [
       "{'Smosa': 30, 'Pkora': 100, 'Raita': 50, 'Salad': 50, 'Tikki': 15, 'Rolls': 40}"
      ]
     },
     "execution_count": 106,
     "metadata": {},
     "output_type": "execute_result"
    }
   ],
   "source": [
    "#Deleting a key value pair\n",
    "food1.pop(\"Chicken Rolls\")\n",
    "food1"
   ]
  },
  {
   "cell_type": "code",
   "execution_count": 107,
   "id": "40f12ac0",
   "metadata": {
    "scrolled": true
   },
   "outputs": [
    {
     "data": {
      "text/plain": [
       "{'Smosa': 30,\n",
       " 'Pkora': 100,\n",
       " 'Raita': 50,\n",
       " 'Salad': 50,\n",
       " 'Tikki': 15,\n",
       " 'Rolls': 40,\n",
       " 'Chiken Roll': 40}"
      ]
     },
     "execution_count": 107,
     "metadata": {},
     "output_type": "execute_result"
    }
   ],
   "source": [
    "#Updating name of a key\n",
    "food1[\"Chiken Roll\"]=food1[\"Rolls\"]\n",
    "food1"
   ]
  },
  {
   "cell_type": "code",
   "execution_count": 108,
   "id": "24e0b1ee",
   "metadata": {},
   "outputs": [],
   "source": [
    "food2={\"Dates\":50,\"Chocolates\":200}"
   ]
  },
  {
   "cell_type": "code",
   "execution_count": 109,
   "id": "056fba66",
   "metadata": {},
   "outputs": [
    {
     "data": {
      "text/plain": [
       "{'Smosa': 30,\n",
       " 'Pkora': 100,\n",
       " 'Raita': 50,\n",
       " 'Salad': 50,\n",
       " 'Tikki': 15,\n",
       " 'Rolls': 40,\n",
       " 'Chiken Roll': 40,\n",
       " 'Dates': 50,\n",
       " 'Chocolates': 200}"
      ]
     },
     "execution_count": 109,
     "metadata": {},
     "output_type": "execute_result"
    }
   ],
   "source": [
    "#Concatenate dictionaries\n",
    "food1.update(food2)\n",
    "food1"
   ]
  },
  {
   "cell_type": "markdown",
   "id": "0b521273",
   "metadata": {},
   "source": [
    "## 4- Sets\n",
    "-unordered and unindexed collection\n",
    "\n",
    "-uses curly bracket { }\n",
    "\n",
    "-No duplicates allowed\n"
   ]
  },
  {
   "cell_type": "code",
   "execution_count": 111,
   "id": "a48ec8ea",
   "metadata": {},
   "outputs": [
    {
     "data": {
      "text/plain": [
       "{1, 4.5, 'Code', 'Dania'}"
      ]
     },
     "execution_count": 111,
     "metadata": {},
     "output_type": "execute_result"
    }
   ],
   "source": [
    "s1={\"Dania\",1,4.5,True,\"Code\"}\n",
    "s1"
   ]
  },
  {
   "cell_type": "code",
   "execution_count": 113,
   "id": "6937ed90",
   "metadata": {},
   "outputs": [
    {
     "data": {
      "text/plain": [
       "{1, 4.5, 'Code', 'Dania', 'Fun'}"
      ]
     },
     "execution_count": 113,
     "metadata": {},
     "output_type": "execute_result"
    }
   ],
   "source": [
    "s1.add(\"Fun\")\n",
    "s1"
   ]
  }
 ],
 "metadata": {
  "kernelspec": {
   "display_name": "Python 3 (ipykernel)",
   "language": "python",
   "name": "python3"
  },
  "language_info": {
   "codemirror_mode": {
    "name": "ipython",
    "version": 3
   },
   "file_extension": ".py",
   "mimetype": "text/x-python",
   "name": "python",
   "nbconvert_exporter": "python",
   "pygments_lexer": "ipython3",
   "version": "3.9.7"
  }
 },
 "nbformat": 4,
 "nbformat_minor": 5
}
